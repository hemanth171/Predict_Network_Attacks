{
 "cells": [
  {
   "cell_type": "code",
   "execution_count": 1,
   "metadata": {
    "collapsed": true
   },
   "outputs": [],
   "source": [
    "import numpy as np\n",
    "import pandas as pd\n",
    "import matplotlib.pyplot as plt\n",
    "%matplotlib inline\n",
    "import seaborn as sns\n",
    "\n",
    "from sklearn.model_selection import train_test_split, GridSearchCV\n",
    "from sklearn.metrics import accuracy_score\n",
    "from sklearn.preprocessing import StandardScaler"
   ]
  },
  {
   "cell_type": "code",
   "execution_count": 2,
   "metadata": {
    "collapsed": true
   },
   "outputs": [],
   "source": [
    "train = pd.read_csv('train_data.csv')\n",
    "test = pd.read_csv('test_data.csv')"
   ]
  },
  {
   "cell_type": "code",
   "execution_count": 3,
   "metadata": {
    "collapsed": false
   },
   "outputs": [
    {
     "name": "stdout",
     "output_type": "stream",
     "text": [
      "<class 'pandas.core.frame.DataFrame'>\n",
      "RangeIndex: 169307 entries, 0 to 169306\n",
      "Data columns (total 43 columns):\n",
      "connection_id    169307 non-null object\n",
      "cont_1           169307 non-null int64\n",
      "cont_2           169307 non-null int64\n",
      "cont_3           169307 non-null int64\n",
      "cont_4           169307 non-null float64\n",
      "cont_5           169307 non-null float64\n",
      "cont_6           169307 non-null float64\n",
      "cont_7           169307 non-null float64\n",
      "cont_8           169307 non-null float64\n",
      "cont_9           169307 non-null float64\n",
      "cont_10          169307 non-null float64\n",
      "cont_11          169307 non-null float64\n",
      "cont_12          169307 non-null float64\n",
      "cont_13          169307 non-null float64\n",
      "cont_14          169307 non-null float64\n",
      "cont_15          169307 non-null float64\n",
      "cont_16          169307 non-null float64\n",
      "cont_17          169307 non-null float64\n",
      "cont_18          169307 non-null float64\n",
      "cat_1            169307 non-null int64\n",
      "cat_2            169307 non-null int64\n",
      "cat_3            169307 non-null int64\n",
      "cat_4            169307 non-null int64\n",
      "cat_5            169307 non-null int64\n",
      "cat_6            169307 non-null int64\n",
      "cat_7            169307 non-null int64\n",
      "cat_8            169307 non-null int64\n",
      "cat_9            169307 non-null int64\n",
      "cat_10           169307 non-null int64\n",
      "cat_11           169307 non-null int64\n",
      "cat_12           169307 non-null int64\n",
      "cat_13           169307 non-null int64\n",
      "cat_14           169307 non-null int64\n",
      "cat_15           169307 non-null int64\n",
      "cat_16           169307 non-null int64\n",
      "cat_17           169307 non-null int64\n",
      "cat_18           169307 non-null int64\n",
      "cat_19           169307 non-null int64\n",
      "cat_20           169307 non-null int64\n",
      "cat_21           169307 non-null int64\n",
      "cat_22           169307 non-null int64\n",
      "cat_23           169307 non-null int64\n",
      "target           169307 non-null int64\n",
      "dtypes: float64(15), int64(27), object(1)\n",
      "memory usage: 55.5+ MB\n"
     ]
    }
   ],
   "source": [
    "train.info()"
   ]
  },
  {
   "cell_type": "code",
   "execution_count": 5,
   "metadata": {
    "collapsed": false
   },
   "outputs": [
    {
     "data": {
      "text/html": [
       "<div>\n",
       "<table border=\"1\" class=\"dataframe\">\n",
       "  <thead>\n",
       "    <tr style=\"text-align: right;\">\n",
       "      <th></th>\n",
       "      <th>connection_id</th>\n",
       "      <th>cont_1</th>\n",
       "      <th>cont_2</th>\n",
       "      <th>cont_3</th>\n",
       "      <th>cont_4</th>\n",
       "      <th>cont_5</th>\n",
       "      <th>cont_6</th>\n",
       "      <th>cont_7</th>\n",
       "      <th>cont_8</th>\n",
       "      <th>cont_9</th>\n",
       "      <th>...</th>\n",
       "      <th>cat_15</th>\n",
       "      <th>cat_16</th>\n",
       "      <th>cat_17</th>\n",
       "      <th>cat_18</th>\n",
       "      <th>cat_19</th>\n",
       "      <th>cat_20</th>\n",
       "      <th>cat_21</th>\n",
       "      <th>cat_22</th>\n",
       "      <th>cat_23</th>\n",
       "      <th>target</th>\n",
       "    </tr>\n",
       "  </thead>\n",
       "  <tbody>\n",
       "    <tr>\n",
       "      <th>0</th>\n",
       "      <td>cxcon_1</td>\n",
       "      <td>0</td>\n",
       "      <td>1032</td>\n",
       "      <td>0</td>\n",
       "      <td>0.0</td>\n",
       "      <td>0.0</td>\n",
       "      <td>0.0</td>\n",
       "      <td>0.0</td>\n",
       "      <td>1.0</td>\n",
       "      <td>0.0</td>\n",
       "      <td>...</td>\n",
       "      <td>0</td>\n",
       "      <td>0</td>\n",
       "      <td>0</td>\n",
       "      <td>0</td>\n",
       "      <td>0</td>\n",
       "      <td>511</td>\n",
       "      <td>511</td>\n",
       "      <td>255</td>\n",
       "      <td>255</td>\n",
       "      <td>2</td>\n",
       "    </tr>\n",
       "    <tr>\n",
       "      <th>1</th>\n",
       "      <td>cxcon_4</td>\n",
       "      <td>0</td>\n",
       "      <td>520</td>\n",
       "      <td>0</td>\n",
       "      <td>0.0</td>\n",
       "      <td>0.0</td>\n",
       "      <td>0.0</td>\n",
       "      <td>0.0</td>\n",
       "      <td>1.0</td>\n",
       "      <td>0.0</td>\n",
       "      <td>...</td>\n",
       "      <td>0</td>\n",
       "      <td>0</td>\n",
       "      <td>0</td>\n",
       "      <td>0</td>\n",
       "      <td>0</td>\n",
       "      <td>511</td>\n",
       "      <td>511</td>\n",
       "      <td>255</td>\n",
       "      <td>255</td>\n",
       "      <td>0</td>\n",
       "    </tr>\n",
       "    <tr>\n",
       "      <th>2</th>\n",
       "      <td>cxcon_7</td>\n",
       "      <td>0</td>\n",
       "      <td>1032</td>\n",
       "      <td>0</td>\n",
       "      <td>0.0</td>\n",
       "      <td>0.0</td>\n",
       "      <td>0.0</td>\n",
       "      <td>0.0</td>\n",
       "      <td>1.0</td>\n",
       "      <td>0.0</td>\n",
       "      <td>...</td>\n",
       "      <td>0</td>\n",
       "      <td>0</td>\n",
       "      <td>0</td>\n",
       "      <td>0</td>\n",
       "      <td>0</td>\n",
       "      <td>511</td>\n",
       "      <td>511</td>\n",
       "      <td>255</td>\n",
       "      <td>255</td>\n",
       "      <td>0</td>\n",
       "    </tr>\n",
       "    <tr>\n",
       "      <th>3</th>\n",
       "      <td>cxcon_10</td>\n",
       "      <td>0</td>\n",
       "      <td>1032</td>\n",
       "      <td>0</td>\n",
       "      <td>0.0</td>\n",
       "      <td>0.0</td>\n",
       "      <td>0.0</td>\n",
       "      <td>0.0</td>\n",
       "      <td>1.0</td>\n",
       "      <td>0.0</td>\n",
       "      <td>...</td>\n",
       "      <td>0</td>\n",
       "      <td>0</td>\n",
       "      <td>0</td>\n",
       "      <td>0</td>\n",
       "      <td>0</td>\n",
       "      <td>511</td>\n",
       "      <td>511</td>\n",
       "      <td>255</td>\n",
       "      <td>255</td>\n",
       "      <td>0</td>\n",
       "    </tr>\n",
       "    <tr>\n",
       "      <th>4</th>\n",
       "      <td>cxcon_13</td>\n",
       "      <td>0</td>\n",
       "      <td>1032</td>\n",
       "      <td>0</td>\n",
       "      <td>0.0</td>\n",
       "      <td>0.0</td>\n",
       "      <td>0.0</td>\n",
       "      <td>0.0</td>\n",
       "      <td>1.0</td>\n",
       "      <td>0.0</td>\n",
       "      <td>...</td>\n",
       "      <td>0</td>\n",
       "      <td>0</td>\n",
       "      <td>0</td>\n",
       "      <td>0</td>\n",
       "      <td>0</td>\n",
       "      <td>511</td>\n",
       "      <td>511</td>\n",
       "      <td>255</td>\n",
       "      <td>255</td>\n",
       "      <td>2</td>\n",
       "    </tr>\n",
       "  </tbody>\n",
       "</table>\n",
       "<p>5 rows × 43 columns</p>\n",
       "</div>"
      ],
      "text/plain": [
       "  connection_id  cont_1  cont_2  cont_3  cont_4  cont_5  cont_6  cont_7  \\\n",
       "0       cxcon_1       0    1032       0     0.0     0.0     0.0     0.0   \n",
       "1       cxcon_4       0     520       0     0.0     0.0     0.0     0.0   \n",
       "2       cxcon_7       0    1032       0     0.0     0.0     0.0     0.0   \n",
       "3      cxcon_10       0    1032       0     0.0     0.0     0.0     0.0   \n",
       "4      cxcon_13       0    1032       0     0.0     0.0     0.0     0.0   \n",
       "\n",
       "   cont_8  cont_9   ...    cat_15  cat_16  cat_17  cat_18  cat_19  cat_20  \\\n",
       "0     1.0     0.0   ...         0       0       0       0       0     511   \n",
       "1     1.0     0.0   ...         0       0       0       0       0     511   \n",
       "2     1.0     0.0   ...         0       0       0       0       0     511   \n",
       "3     1.0     0.0   ...         0       0       0       0       0     511   \n",
       "4     1.0     0.0   ...         0       0       0       0       0     511   \n",
       "\n",
       "   cat_21  cat_22  cat_23  target  \n",
       "0     511     255     255       2  \n",
       "1     511     255     255       0  \n",
       "2     511     255     255       0  \n",
       "3     511     255     255       0  \n",
       "4     511     255     255       2  \n",
       "\n",
       "[5 rows x 43 columns]"
      ]
     },
     "execution_count": 5,
     "metadata": {},
     "output_type": "execute_result"
    }
   ],
   "source": [
    "train.head()"
   ]
  },
  {
   "cell_type": "code",
   "execution_count": 3,
   "metadata": {
    "collapsed": true
   },
   "outputs": [],
   "source": [
    "predictor_variables = [x for x in train.columns if x not in ['connection_id','target']]\n",
    "target = train['target']"
   ]
  },
  {
   "cell_type": "code",
   "execution_count": 4,
   "metadata": {
    "collapsed": false
   },
   "outputs": [],
   "source": [
    "X_train, X_test, y_train, y_test = train_test_split(train[predictor_variables],target,test_size=0.2,stratify=target,random_state=2017)"
   ]
  },
  {
   "cell_type": "code",
   "execution_count": 13,
   "metadata": {
    "collapsed": true
   },
   "outputs": [],
   "source": [
    "# RandomForestClassifier\n",
    "from sklearn.ensemble import RandomForestClassifier\n",
    "\n",
    "clf_rfc = RandomForestClassifier(n_estimators=10)\n",
    "\n",
    "# clf_rfc.fit(X_train,y_train)\n",
    "# pred_rfc = clf_rfc.predict(X_test)\n",
    "# acc_rfc = accuracy_score(y_test,pred_rfc)\n",
    "# print acc_rfc\n",
    "# 0.763510719981\n",
    "\n",
    "clf_rfc.fit(train[predictor_variables],target)\n",
    "pred2 = clf_rfc.predict(test[predictor_variables]) # 0.63109"
   ]
  },
  {
   "cell_type": "code",
   "execution_count": 41,
   "metadata": {
    "collapsed": false
   },
   "outputs": [],
   "source": [
    "# Import LightGBM and sklearn LightGBM\n",
    "import lightgbm as lgb\n",
    "from lightgbm.sklearn import LGBMClassifier"
   ]
  },
  {
   "cell_type": "code",
   "execution_count": 7,
   "metadata": {
    "collapsed": false
   },
   "outputs": [],
   "source": [
    "lgbclassifier = LGBMClassifier(random_state=2017, n_jobs=4)\n",
    "\n",
    "# lgbclassifier.fit(X_train,y_train)\n",
    "# pred_lgb = lgbclassifier.predict(X_test)\n",
    "# acc_lgb = accuracy_score(y_test,pred_lgb)\n",
    "# print acc_lgb\n",
    "# 0.780757190952\n",
    "\n",
    "lgbclassifier.fit(train[predictor_variables],target)\n",
    "pred3 = lgbclassifier.predict(test[predictor_variables])  # 0.64736"
   ]
  },
  {
   "cell_type": "code",
   "execution_count": 6,
   "metadata": {
    "collapsed": true
   },
   "outputs": [],
   "source": [
    "# Import LightGBM and sklearn LightGBM\n",
    "import lightgbm as lgb\n",
    "from lightgbm.sklearn import LGBMClassifier\n",
    "\n",
    "def gridSearchCV_lgb_clf(params):\n",
    "    gsearch = GridSearchCV(estimator=LGBMClassifier(learning_rate=0.05,\n",
    "                   n_estimators=100,\n",
    "                   max_depth=10,\n",
    "                   num_leaves=32,\n",
    "                   max_bin=264,\n",
    "                   subsample=0.6,\n",
    "                   colsample_bytree=0.8,\n",
    "                   random_state=2017), param_grid=params,\n",
    "                       scoring='accuracy',\n",
    "                       n_jobs=4,\n",
    "                       iid=False,\n",
    "                       cv=5)\n",
    "    \n",
    "    gsearch.fit(train[predictor_variables], target)\n",
    "    print gsearch.best_params_\n",
    "    print gsearch.best_score_"
   ]
  },
  {
   "cell_type": "code",
   "execution_count": 9,
   "metadata": {
    "collapsed": false
   },
   "outputs": [
    {
     "name": "stdout",
     "output_type": "stream",
     "text": [
      "{'n_estimators': 100}\n",
      "0.780924590493\n"
     ]
    }
   ],
   "source": [
    "param_test = {\n",
    "    'n_estimators':range(10,101,10)\n",
    "}\n",
    "gridSearchCV_lgb_clf(param_test)"
   ]
  },
  {
   "cell_type": "code",
   "execution_count": 8,
   "metadata": {
    "collapsed": false
   },
   "outputs": [
    {
     "name": "stdout",
     "output_type": "stream",
     "text": [
      "{'n_estimators': 100}\n",
      "0.780924590493\n"
     ]
    }
   ],
   "source": [
    "param_test = {\n",
    "    'n_estimators':range(100,201,10)\n",
    "}\n",
    "gridSearchCV_lgb_clf(param_test)"
   ]
  },
  {
   "cell_type": "code",
   "execution_count": 9,
   "metadata": {
    "collapsed": false
   },
   "outputs": [
    {
     "name": "stdout",
     "output_type": "stream",
     "text": [
      "{'max_depth': 10}\n",
      "0.780924590493\n"
     ]
    }
   ],
   "source": [
    "param_test2 = {\n",
    "    'max_depth':range(8,25,2)\n",
    "}\n",
    "gridSearchCV_lgb_clf(param_test2)"
   ]
  },
  {
   "cell_type": "code",
   "execution_count": 8,
   "metadata": {
    "collapsed": false
   },
   "outputs": [
    {
     "name": "stdout",
     "output_type": "stream",
     "text": [
      "{'num_leaves': 32}\n",
      "0.780930497865\n"
     ]
    }
   ],
   "source": [
    "\n",
    "param_test3 = {\n",
    "    'num_leaves':range(30,41,2)\n",
    "}\n",
    "gridSearchCV_lgb_clf(param_test3)"
   ]
  },
  {
   "cell_type": "code",
   "execution_count": 8,
   "metadata": {
    "collapsed": false
   },
   "outputs": [
    {
     "name": "stdout",
     "output_type": "stream",
     "text": [
      "{'num_leaves': 32}\n",
      "0.780930497865\n"
     ]
    }
   ],
   "source": [
    "param_test4 = {\n",
    "    'num_leaves':range(28,35,1)\n",
    "}\n",
    "gridSearchCV_lgb_clf(param_test4)"
   ]
  },
  {
   "cell_type": "code",
   "execution_count": 7,
   "metadata": {
    "collapsed": false
   },
   "outputs": [
    {
     "name": "stdout",
     "output_type": "stream",
     "text": [
      "{'max_bin': 265}\n",
      "0.780936404366\n"
     ]
    }
   ],
   "source": [
    "param_test5 = {\n",
    "    'max_bin':range(255,300,10)\n",
    "}\n",
    "gridSearchCV_lgb_clf(param_test5)"
   ]
  },
  {
   "cell_type": "code",
   "execution_count": 7,
   "metadata": {
    "collapsed": false
   },
   "outputs": [
    {
     "name": "stdout",
     "output_type": "stream",
     "text": [
      "{'max_bin': 264}\n",
      "0.780942310517\n"
     ]
    }
   ],
   "source": [
    "param_test6 = {\n",
    "    'max_bin':range(260,271,2)\n",
    "}\n",
    "gridSearchCV_lgb_clf(param_test6)"
   ]
  },
  {
   "cell_type": "code",
   "execution_count": 10,
   "metadata": {
    "collapsed": false
   },
   "outputs": [
    {
     "name": "stdout",
     "output_type": "stream",
     "text": [
      "{'learning_rate': 0.05}\n",
      "0.780942310517\n"
     ]
    }
   ],
   "source": [
    "param_test6 = {\n",
    "    'learning_rate':[x/100.0 for x in range(5,11,1)]\n",
    "}\n",
    "gridSearchCV_lgb_clf(param_test6)"
   ]
  },
  {
   "cell_type": "code",
   "execution_count": 7,
   "metadata": {
    "collapsed": false
   },
   "outputs": [
    {
     "name": "stdout",
     "output_type": "stream",
     "text": [
      "{'subsample': 0.6, 'colsample_bytree': 0.8}\n",
      "0.780954123691\n"
     ]
    }
   ],
   "source": [
    "param_test7 = {\n",
    "    'subsample':[x/10.0 for x in range(5,11,1)],\n",
    "    'colsample_bytree':[x/10.0 for x in range(5,11,1)]\n",
    "}\n",
    "gridSearchCV_lgb_clf(param_test7)"
   ]
  },
  {
   "cell_type": "code",
   "execution_count": 7,
   "metadata": {
    "collapsed": true
   },
   "outputs": [],
   "source": [
    "lgbclassifier = LGBMClassifier(learning_rate=0.05,\n",
    "                   n_estimators=100,\n",
    "                   max_depth=10,\n",
    "                   num_leaves=32,\n",
    "                   max_bin=264,\n",
    "                   subsample=0.6,\n",
    "                   colsample_bytree=0.8,\n",
    "                   random_state=2017)\n",
    "\n",
    "# lgbclassifier.fit(X_train,y_train)\n",
    "# pred_lgb = lgbclassifier.predict(X_test)\n",
    "# acc_lgb = accuracy_score(y_test,pred_lgb)\n",
    "# print acc_lgb\n",
    "# 0.780757190952\n",
    "\n",
    "lgbclassifier.fit(train[predictor_variables],target)\n",
    "pred4 = lgbclassifier.predict(test[predictor_variables])  # 0.64727"
   ]
  },
  {
   "cell_type": "code",
   "execution_count": 9,
   "metadata": {
    "collapsed": false
   },
   "outputs": [
    {
     "name": "stdout",
     "output_type": "stream",
     "text": [
      "0.781170633749\n"
     ]
    }
   ],
   "source": [
    "lgbclassifier2 = LGBMClassifier(learning_rate=0.1,\n",
    "                   n_estimators=100,\n",
    "                   max_depth=10,\n",
    "                   num_leaves=32,\n",
    "                   max_bin=264,\n",
    "                   subsample=0.8,\n",
    "                   colsample_bytree=0.8,\n",
    "                   random_state=2017)\n",
    "\n",
    "lgbclassifier2.fit(X_train,y_train)\n",
    "pred_lgb2 = lgbclassifier2.predict(X_test)\n",
    "acc_lgb2 = accuracy_score(y_test,pred_lgb2)\n",
    "print acc_lgb2\n",
    "# 0.781170633749\n",
    "\n",
    "# lgbclassifier2.fit(train[predictor_variables],target)\n",
    "# pred5 = lgbclassifier2.predict(test[predictor_variables])"
   ]
  },
  {
   "cell_type": "code",
   "execution_count": 22,
   "metadata": {
    "collapsed": false
   },
   "outputs": [
    {
     "ename": "NameError",
     "evalue": "name 'X_test_' is not defined",
     "output_type": "error",
     "traceback": [
      "\u001b[0;31m---------------------------------------------------------------------------\u001b[0m",
      "\u001b[0;31mNameError\u001b[0m                                 Traceback (most recent call last)",
      "\u001b[0;32m<ipython-input-22-f5ad84688971>\u001b[0m in \u001b[0;36m<module>\u001b[0;34m()\u001b[0m\n\u001b[1;32m      9\u001b[0m \u001b[0;34m\u001b[0m\u001b[0m\n\u001b[1;32m     10\u001b[0m \u001b[0mlgbclassifier3\u001b[0m\u001b[0;34m.\u001b[0m\u001b[0mfit\u001b[0m\u001b[0;34m(\u001b[0m\u001b[0mX_train\u001b[0m\u001b[0;34m,\u001b[0m\u001b[0my_train\u001b[0m\u001b[0;34m)\u001b[0m\u001b[0;34m\u001b[0m\u001b[0m\n\u001b[0;32m---> 11\u001b[0;31m \u001b[0mpred_lgb3\u001b[0m \u001b[0;34m=\u001b[0m \u001b[0mlgbclassifier3\u001b[0m\u001b[0;34m.\u001b[0m\u001b[0mpredict\u001b[0m\u001b[0;34m(\u001b[0m\u001b[0mX_test_\u001b[0m\u001b[0;34m)\u001b[0m\u001b[0;34m\u001b[0m\u001b[0m\n\u001b[0m\u001b[1;32m     12\u001b[0m \u001b[0macc_lgb3\u001b[0m \u001b[0;34m=\u001b[0m \u001b[0maccuracy_score\u001b[0m\u001b[0;34m(\u001b[0m\u001b[0my_test\u001b[0m\u001b[0;34m,\u001b[0m\u001b[0mpred_lgb3\u001b[0m\u001b[0;34m)\u001b[0m\u001b[0;34m\u001b[0m\u001b[0m\n\u001b[1;32m     13\u001b[0m \u001b[0;32mprint\u001b[0m \u001b[0macc_lgb3\u001b[0m\u001b[0;34m\u001b[0m\u001b[0m\n",
      "\u001b[0;31mNameError\u001b[0m: name 'X_test_' is not defined"
     ]
    }
   ],
   "source": [
    "lgbclassifier3 = LGBMClassifier(learning_rate=0.1,\n",
    "                   n_estimators=100,\n",
    "                   max_depth=10,\n",
    "                   num_leaves=32,\n",
    "                   max_bin=264,\n",
    "                   subsample=0.8,\n",
    "                   colsample_bytree=0.8,\n",
    "                   random_state=2017)\n",
    "\n",
    "lgbclassifier3.fit(X_train,y_train)\n",
    "pred_lgb3 = lgbclassifier3.predict(X_test)\n",
    "acc_lgb3 = accuracy_score(y_test,pred_lgb3)\n",
    "print acc_lgb3\n",
    "# 0.781170633749\n",
    "\n",
    "# lgbclassifier2.fit(train[predictor_variables],target)\n",
    "# pred5 = lgbclassifier2.predict(test[predictor_variables])"
   ]
  },
  {
   "cell_type": "code",
   "execution_count": 5,
   "metadata": {
    "collapsed": false
   },
   "outputs": [],
   "source": [
    "train_data_in_float = train[predictor_variables].astype(float)\n",
    "test_data_in_float = test[predictor_variables].astype(float)"
   ]
  },
  {
   "cell_type": "code",
   "execution_count": 15,
   "metadata": {
    "collapsed": false
   },
   "outputs": [
    {
     "data": {
      "text/html": [
       "<div>\n",
       "<table border=\"1\" class=\"dataframe\">\n",
       "  <thead>\n",
       "    <tr style=\"text-align: right;\">\n",
       "      <th></th>\n",
       "      <th>cont_1</th>\n",
       "      <th>cont_2</th>\n",
       "      <th>cont_3</th>\n",
       "      <th>cont_4</th>\n",
       "      <th>cont_5</th>\n",
       "      <th>cont_6</th>\n",
       "      <th>cont_7</th>\n",
       "      <th>cont_8</th>\n",
       "      <th>cont_9</th>\n",
       "      <th>cont_10</th>\n",
       "      <th>...</th>\n",
       "      <th>cat_14</th>\n",
       "      <th>cat_15</th>\n",
       "      <th>cat_16</th>\n",
       "      <th>cat_17</th>\n",
       "      <th>cat_18</th>\n",
       "      <th>cat_19</th>\n",
       "      <th>cat_20</th>\n",
       "      <th>cat_21</th>\n",
       "      <th>cat_22</th>\n",
       "      <th>cat_23</th>\n",
       "    </tr>\n",
       "  </thead>\n",
       "  <tbody>\n",
       "    <tr>\n",
       "      <th>0</th>\n",
       "      <td>0.0</td>\n",
       "      <td>1032.0</td>\n",
       "      <td>0.0</td>\n",
       "      <td>0.0</td>\n",
       "      <td>0.0</td>\n",
       "      <td>0.0</td>\n",
       "      <td>0.0</td>\n",
       "      <td>1.0</td>\n",
       "      <td>0.0</td>\n",
       "      <td>0.0</td>\n",
       "      <td>...</td>\n",
       "      <td>0.0</td>\n",
       "      <td>0.0</td>\n",
       "      <td>0.0</td>\n",
       "      <td>0.0</td>\n",
       "      <td>0.0</td>\n",
       "      <td>0.0</td>\n",
       "      <td>511.0</td>\n",
       "      <td>511.0</td>\n",
       "      <td>255.0</td>\n",
       "      <td>255.0</td>\n",
       "    </tr>\n",
       "    <tr>\n",
       "      <th>1</th>\n",
       "      <td>0.0</td>\n",
       "      <td>520.0</td>\n",
       "      <td>0.0</td>\n",
       "      <td>0.0</td>\n",
       "      <td>0.0</td>\n",
       "      <td>0.0</td>\n",
       "      <td>0.0</td>\n",
       "      <td>1.0</td>\n",
       "      <td>0.0</td>\n",
       "      <td>0.0</td>\n",
       "      <td>...</td>\n",
       "      <td>0.0</td>\n",
       "      <td>0.0</td>\n",
       "      <td>0.0</td>\n",
       "      <td>0.0</td>\n",
       "      <td>0.0</td>\n",
       "      <td>0.0</td>\n",
       "      <td>511.0</td>\n",
       "      <td>511.0</td>\n",
       "      <td>255.0</td>\n",
       "      <td>255.0</td>\n",
       "    </tr>\n",
       "    <tr>\n",
       "      <th>2</th>\n",
       "      <td>0.0</td>\n",
       "      <td>1032.0</td>\n",
       "      <td>0.0</td>\n",
       "      <td>0.0</td>\n",
       "      <td>0.0</td>\n",
       "      <td>0.0</td>\n",
       "      <td>0.0</td>\n",
       "      <td>1.0</td>\n",
       "      <td>0.0</td>\n",
       "      <td>0.0</td>\n",
       "      <td>...</td>\n",
       "      <td>0.0</td>\n",
       "      <td>0.0</td>\n",
       "      <td>0.0</td>\n",
       "      <td>0.0</td>\n",
       "      <td>0.0</td>\n",
       "      <td>0.0</td>\n",
       "      <td>511.0</td>\n",
       "      <td>511.0</td>\n",
       "      <td>255.0</td>\n",
       "      <td>255.0</td>\n",
       "    </tr>\n",
       "    <tr>\n",
       "      <th>3</th>\n",
       "      <td>0.0</td>\n",
       "      <td>1032.0</td>\n",
       "      <td>0.0</td>\n",
       "      <td>0.0</td>\n",
       "      <td>0.0</td>\n",
       "      <td>0.0</td>\n",
       "      <td>0.0</td>\n",
       "      <td>1.0</td>\n",
       "      <td>0.0</td>\n",
       "      <td>0.0</td>\n",
       "      <td>...</td>\n",
       "      <td>0.0</td>\n",
       "      <td>0.0</td>\n",
       "      <td>0.0</td>\n",
       "      <td>0.0</td>\n",
       "      <td>0.0</td>\n",
       "      <td>0.0</td>\n",
       "      <td>511.0</td>\n",
       "      <td>511.0</td>\n",
       "      <td>255.0</td>\n",
       "      <td>255.0</td>\n",
       "    </tr>\n",
       "    <tr>\n",
       "      <th>4</th>\n",
       "      <td>0.0</td>\n",
       "      <td>1032.0</td>\n",
       "      <td>0.0</td>\n",
       "      <td>0.0</td>\n",
       "      <td>0.0</td>\n",
       "      <td>0.0</td>\n",
       "      <td>0.0</td>\n",
       "      <td>1.0</td>\n",
       "      <td>0.0</td>\n",
       "      <td>0.0</td>\n",
       "      <td>...</td>\n",
       "      <td>0.0</td>\n",
       "      <td>0.0</td>\n",
       "      <td>0.0</td>\n",
       "      <td>0.0</td>\n",
       "      <td>0.0</td>\n",
       "      <td>0.0</td>\n",
       "      <td>511.0</td>\n",
       "      <td>511.0</td>\n",
       "      <td>255.0</td>\n",
       "      <td>255.0</td>\n",
       "    </tr>\n",
       "  </tbody>\n",
       "</table>\n",
       "<p>5 rows × 41 columns</p>\n",
       "</div>"
      ],
      "text/plain": [
       "   cont_1  cont_2  cont_3  cont_4  cont_5  cont_6  cont_7  cont_8  cont_9  \\\n",
       "0     0.0  1032.0     0.0     0.0     0.0     0.0     0.0     1.0     0.0   \n",
       "1     0.0   520.0     0.0     0.0     0.0     0.0     0.0     1.0     0.0   \n",
       "2     0.0  1032.0     0.0     0.0     0.0     0.0     0.0     1.0     0.0   \n",
       "3     0.0  1032.0     0.0     0.0     0.0     0.0     0.0     1.0     0.0   \n",
       "4     0.0  1032.0     0.0     0.0     0.0     0.0     0.0     1.0     0.0   \n",
       "\n",
       "   cont_10   ...    cat_14  cat_15  cat_16  cat_17  cat_18  cat_19  cat_20  \\\n",
       "0      0.0   ...       0.0     0.0     0.0     0.0     0.0     0.0   511.0   \n",
       "1      0.0   ...       0.0     0.0     0.0     0.0     0.0     0.0   511.0   \n",
       "2      0.0   ...       0.0     0.0     0.0     0.0     0.0     0.0   511.0   \n",
       "3      0.0   ...       0.0     0.0     0.0     0.0     0.0     0.0   511.0   \n",
       "4      0.0   ...       0.0     0.0     0.0     0.0     0.0     0.0   511.0   \n",
       "\n",
       "   cat_21  cat_22  cat_23  \n",
       "0   511.0   255.0   255.0  \n",
       "1   511.0   255.0   255.0  \n",
       "2   511.0   255.0   255.0  \n",
       "3   511.0   255.0   255.0  \n",
       "4   511.0   255.0   255.0  \n",
       "\n",
       "[5 rows x 41 columns]"
      ]
     },
     "execution_count": 15,
     "metadata": {},
     "output_type": "execute_result"
    }
   ],
   "source": [
    "train_data_in_float.head()"
   ]
  },
  {
   "cell_type": "code",
   "execution_count": 5,
   "metadata": {
    "collapsed": true
   },
   "outputs": [],
   "source": [
    "X_train_f, X_test_f, y_train_f, y_test_f = train_test_split(train_data_in_float,target,test_size=0.2,stratify=target,random_state=2017)"
   ]
  },
  {
   "cell_type": "code",
   "execution_count": 17,
   "metadata": {
    "collapsed": true
   },
   "outputs": [],
   "source": [
    "from sklearn.neural_network import MLPClassifier"
   ]
  },
  {
   "cell_type": "code",
   "execution_count": 6,
   "metadata": {
    "collapsed": false
   },
   "outputs": [],
   "source": [
    "scaler = StandardScaler()"
   ]
  },
  {
   "cell_type": "code",
   "execution_count": 19,
   "metadata": {
    "collapsed": true
   },
   "outputs": [],
   "source": [
    "X_train_f = scaler.fit_transform(X_train_f)\n",
    "X_test_f = scaler.fit_transform(X_test_f)"
   ]
  },
  {
   "cell_type": "code",
   "execution_count": 77,
   "metadata": {
    "collapsed": true
   },
   "outputs": [],
   "source": [
    "clf_mlp = MLPClassifier(hidden_layer_sizes=(50,), alpha=1e-4,\n",
    "                    solver='sgd', tol=1e-4, random_state=1,\n",
    "                    learning_rate_init=.1)"
   ]
  },
  {
   "cell_type": "code",
   "execution_count": 78,
   "metadata": {
    "collapsed": false
   },
   "outputs": [
    {
     "name": "stdout",
     "output_type": "stream",
     "text": [
      "Training set score: 0.780110\n",
      "Test set score: 0.780048\n"
     ]
    }
   ],
   "source": [
    "clf_mlp.fit(X_train_f, y_train_f)\n",
    "print(\"Training set score: %f\" % clf_mlp.score(X_train_f, y_train_f))\n",
    "print(\"Test set score: %f\" % clf_mlp.score(X_test_f, y_test_f))"
   ]
  },
  {
   "cell_type": "code",
   "execution_count": 66,
   "metadata": {
    "collapsed": false
   },
   "outputs": [
    {
     "name": "stdout",
     "output_type": "stream",
     "text": [
      "0.780491406296\n"
     ]
    }
   ],
   "source": [
    "pred_mlp = clf_mlp.predict(X_test_f)\n",
    "acc_mlp = accuracy_score(y_test_f,pred_mlp)\n",
    "print acc_mlp"
   ]
  },
  {
   "cell_type": "code",
   "execution_count": 11,
   "metadata": {
    "collapsed": true
   },
   "outputs": [],
   "source": [
    "train_data_in_float = scaler.fit_transform(train_data_in_float)\n",
    "test_data_in_float = scaler.fit_transform(test_data_in_float)"
   ]
  },
  {
   "cell_type": "code",
   "execution_count": 12,
   "metadata": {
    "collapsed": false
   },
   "outputs": [
    {
     "name": "stdout",
     "output_type": "stream",
     "text": [
      "Iteration 1, loss = 0.50358674\n",
      "Iteration 2, loss = 0.48790902\n",
      "Iteration 3, loss = 0.49071444\n",
      "Iteration 4, loss = 0.48333163\n",
      "Iteration 5, loss = 0.48186140\n",
      "Iteration 6, loss = 0.48064173\n",
      "Iteration 7, loss = 0.47960942\n",
      "Iteration 8, loss = 0.47937355\n",
      "Iteration 9, loss = 0.47891907\n",
      "Iteration 10, loss = 0.47893760\n"
     ]
    },
    {
     "name": "stderr",
     "output_type": "stream",
     "text": [
      "/Library/Frameworks/Python.framework/Versions/2.7/lib/python2.7/site-packages/sklearn/neural_network/multilayer_perceptron.py:564: ConvergenceWarning: Stochastic Optimizer: Maximum iterations (10) reached and the optimization hasn't converged yet.\n",
      "  % self.max_iter, ConvergenceWarning)\n"
     ]
    }
   ],
   "source": [
    "clf_mlp.fit(train_data_in_float, target)\n",
    "pred4 = clf_mlp.predict(test_data_in_float)"
   ]
  },
  {
   "cell_type": "code",
   "execution_count": 13,
   "metadata": {
    "collapsed": false
   },
   "outputs": [
    {
     "data": {
      "text/plain": [
       "array([0, 1, 2])"
      ]
     },
     "execution_count": 13,
     "metadata": {},
     "output_type": "execute_result"
    }
   ],
   "source": [
    "np.unique(pred4)"
   ]
  },
  {
   "cell_type": "code",
   "execution_count": 14,
   "metadata": {
    "collapsed": false
   },
   "outputs": [],
   "source": [
    "sub = pd.read_csv('sample_submission.csv')\n",
    "sub['target'] = pred4\n",
    "sub['target'] = sub['target'].astype(int)\n",
    "sub.to_csv('sub4.csv', index=False)"
   ]
  },
  {
   "cell_type": "code",
   "execution_count": 6,
   "metadata": {
    "collapsed": true
   },
   "outputs": [],
   "source": [
    "from catboost import CatBoostClassifier"
   ]
  },
  {
   "cell_type": "code",
   "execution_count": 10,
   "metadata": {
    "collapsed": false
   },
   "outputs": [],
   "source": [
    "clf_catb = CatBoostClassifier(iterations=50,\n",
    "                         depth=10, \n",
    "                         l2_leaf_reg=3, \n",
    "                         loss_function='MultiClassOneVsAll',\n",
    "                         feature_border_type='MinEntropy',\n",
    "                         od_pval=None,\n",
    "                         od_wait=None,\n",
    "                         od_type=None,\n",
    "                         nan_mode=None,\n",
    "                         counter_calc_method=None,\n",
    "                         gradient_iterations=None,\n",
    "                         leaf_estimation_method='Gradient',\n",
    "                         max_ctr_complexity=None,\n",
    "                         classes_count=3,\n",
    "                         class_weights=None,\n",
    "                         one_hot_max_size=None,\n",
    "                         random_strength=1,\n",
    "                         train_dir=None,\n",
    "                         custom_loss=None,\n",
    "                         eval_metric='Accuracy',\n",
    "                         bagging_temperature=1,\n",
    "                         snapshot_file=None)"
   ]
  },
  {
   "cell_type": "code",
   "execution_count": 11,
   "metadata": {
    "collapsed": false
   },
   "outputs": [
    {
     "data": {
      "text/plain": [
       "<catboost.core._CatBoostBase at 0x10a08d950>"
      ]
     },
     "execution_count": 11,
     "metadata": {},
     "output_type": "execute_result"
    }
   ],
   "source": [
    "clf_catb.fit(X_train, y_train)"
   ]
  },
  {
   "cell_type": "code",
   "execution_count": 12,
   "metadata": {
    "collapsed": false
   },
   "outputs": [
    {
     "name": "stdout",
     "output_type": "stream",
     "text": [
      "0.778158407655\n"
     ]
    }
   ],
   "source": [
    "pred_catb = clf_catb.predict(X_test)\n",
    "acc_catb = accuracy_score(y_test,pred_catb)\n",
    "print acc_catb"
   ]
  },
  {
   "cell_type": "code",
   "execution_count": 16,
   "metadata": {
    "collapsed": true
   },
   "outputs": [],
   "source": [
    "clf_catb = CatBoostClassifier(iterations=50,\n",
    "                         depth=16, \n",
    "                         loss_function='MultiClassOneVsAll',\n",
    "                         classes_count=3,\n",
    "                         eval_metric='Accuracy',\n",
    "                         snapshot_file=None)"
   ]
  },
  {
   "cell_type": "code",
   "execution_count": null,
   "metadata": {
    "collapsed": false
   },
   "outputs": [],
   "source": [
    "clf_catb.fit(X_train, y_train)"
   ]
  },
  {
   "cell_type": "code",
   "execution_count": 15,
   "metadata": {
    "collapsed": false
   },
   "outputs": [
    {
     "name": "stdout",
     "output_type": "stream",
     "text": [
      "0.778187939283\n"
     ]
    }
   ],
   "source": [
    "pred_catb = clf_catb.predict(X_test)\n",
    "acc_catb = accuracy_score(y_test,pred_catb)\n",
    "print acc_catb"
   ]
  },
  {
   "cell_type": "code",
   "execution_count": 5,
   "metadata": {
    "collapsed": true
   },
   "outputs": [],
   "source": [
    "from sklearn.neighbors import KNeighborsClassifier"
   ]
  },
  {
   "cell_type": "code",
   "execution_count": 11,
   "metadata": {
    "collapsed": true
   },
   "outputs": [],
   "source": [
    "clf_KNN = KNeighborsClassifier(n_neighbors=10)"
   ]
  },
  {
   "cell_type": "code",
   "execution_count": 12,
   "metadata": {
    "collapsed": false
   },
   "outputs": [
    {
     "data": {
      "text/plain": [
       "KNeighborsClassifier(algorithm='auto', leaf_size=30, metric='minkowski',\n",
       "           metric_params=None, n_jobs=1, n_neighbors=10, p=2,\n",
       "           weights='uniform')"
      ]
     },
     "execution_count": 12,
     "metadata": {},
     "output_type": "execute_result"
    }
   ],
   "source": [
    "clf_KNN.fit(X_train, y_train)"
   ]
  },
  {
   "cell_type": "code",
   "execution_count": 13,
   "metadata": {
    "collapsed": false
   },
   "outputs": [
    {
     "name": "stdout",
     "output_type": "stream",
     "text": [
      "0.77514618156\n"
     ]
    }
   ],
   "source": [
    "pred_KNN = clf_KNN.predict(X_test)\n",
    "acc_KNN = accuracy_score(y_test,pred_KNN)\n",
    "print acc_KNN"
   ]
  },
  {
   "cell_type": "code",
   "execution_count": 8,
   "metadata": {
    "collapsed": false
   },
   "outputs": [],
   "source": [
    "a1_min, a1_max = train.cat_20.min()-1, train.cat_20.max()+1\n",
    "a2_min, a2_max = train.cat_21.min()-1, train.cat_21.max()+1"
   ]
  },
  {
   "cell_type": "code",
   "execution_count": 10,
   "metadata": {
    "collapsed": false
   },
   "outputs": [],
   "source": [
    "aa1, aa2 = np.meshgrid(np.arange(a1_min,a1_max,1), np.arange(a2_min,a2_max,1))"
   ]
  },
  {
   "cell_type": "code",
   "execution_count": 14,
   "metadata": {
    "collapsed": true
   },
   "outputs": [],
   "source": [
    "clf_lgb = LGBMClassifier(random_state=2017, n_jobs=4)"
   ]
  },
  {
   "cell_type": "code",
   "execution_count": 15,
   "metadata": {
    "collapsed": false
   },
   "outputs": [
    {
     "data": {
      "text/plain": [
       "LGBMClassifier(boosting_type='gbdt', colsample_bytree=1.0, learning_rate=0.1,\n",
       "        max_bin=255, max_depth=-1, min_child_samples=10,\n",
       "        min_child_weight=5, min_split_gain=0.0, n_estimators=10, n_jobs=4,\n",
       "        num_leaves=31, objective=None, random_state=2017, reg_alpha=0.0,\n",
       "        reg_lambda=0.0, silent=True, subsample=1.0,\n",
       "        subsample_for_bin=50000, subsample_freq=1)"
      ]
     },
     "execution_count": 15,
     "metadata": {},
     "output_type": "execute_result"
    }
   ],
   "source": [
    "clf_lgb.fit(train[['cat_20','cat_21']],train['target'])"
   ]
  },
  {
   "cell_type": "code",
   "execution_count": 19,
   "metadata": {
    "collapsed": false
   },
   "outputs": [
    {
     "data": {
      "image/png": "[encoded data removed]",
      "text/plain": [
       "<matplotlib.figure.Figure at 0x109e24cd0>"
      ]
     },
     "metadata": {},
     "output_type": "display_data"
    }
   ],
   "source": [
    "plt.scatter(train[target == 0]['cat_20'], train[target == 0]['cat_21'],c='red',marker='o',label=0)\n",
    "plt.show()"
   ]
  },
  {
   "cell_type": "code",
   "execution_count": 20,
   "metadata": {
    "collapsed": true
   },
   "outputs": [],
   "source": [
    "from sklearn.preprocessing import StandardScaler\n",
    "sc = StandardScaler()"
   ]
  },
  {
   "cell_type": "code",
   "execution_count": 21,
   "metadata": {
    "collapsed": false
   },
   "outputs": [
    {
     "data": {
      "text/plain": [
       "StandardScaler(copy=True, with_mean=True, with_std=True)"
      ]
     },
     "execution_count": 21,
     "metadata": {},
     "output_type": "execute_result"
    }
   ],
   "source": [
    "sc.fit(train[['cat_20','cat_21']])"
   ]
  },
  {
   "cell_type": "code",
   "execution_count": 22,
   "metadata": {
    "collapsed": true
   },
   "outputs": [],
   "source": [
    "aa = sc.transform(train[['cat_20','cat_21']])"
   ]
  },
  {
   "cell_type": "code",
   "execution_count": 29,
   "metadata": {
    "collapsed": false
   },
   "outputs": [
    {
     "data": {
      "image/png": "[encoded data removed]",
      "text/plain": [
       "<matplotlib.figure.Figure at 0x105c38c90>"
      ]
     },
     "metadata": {},
     "output_type": "display_data"
    }
   ],
   "source": [
    "plt.scatter(aa[target == 0, 0], aa[target == 0, 1], c='red', marker='s', label=0)\n",
    "plt.scatter(aa[target == 1, 0], aa[target == 1, 1], c='lightgreen', marker='x', label=1)\n",
    "plt.scatter(aa[target == 2, 0], aa[target == 2, 1], c='blue', marker='v', label=0)\n",
    "plt.show()"
   ]
  },
  {
   "cell_type": "code",
   "execution_count": 7,
   "metadata": {
    "collapsed": true
   },
   "outputs": [],
   "source": [
    "train_std = scaler.fit_transform(train_data_in_float)\n",
    "test_std = scaler.fit_transform(test_data_in_float)"
   ]
  },
  {
   "cell_type": "code",
   "execution_count": 7,
   "metadata": {
    "collapsed": true
   },
   "outputs": [],
   "source": [
    "cov_mat = np.cov(train_std.T)"
   ]
  },
  {
   "cell_type": "code",
   "execution_count": 8,
   "metadata": {
    "collapsed": true
   },
   "outputs": [],
   "source": [
    "eig_vals, eig_vecs = np.linalg.eig(cov_mat)"
   ]
  },
  {
   "cell_type": "code",
   "execution_count": 9,
   "metadata": {
    "collapsed": false
   },
   "outputs": [
    {
     "data": {
      "text/plain": [
       "array([  9.70164920e+00,   4.67337122e+00,   3.79538756e+00,\n",
       "         3.40162436e+00,   1.76148101e+00,   1.52930291e+00,\n",
       "         1.13716718e+00,   1.11421909e+00,   6.62214803e-01,\n",
       "         7.33284803e-01,   7.45353084e-01,   8.58587558e-01,\n",
       "         1.02091238e+00,   9.63020550e-01,   9.78939525e-01,\n",
       "         9.86112557e-01,   1.00308738e+00,   1.00113676e+00,\n",
       "         1.00011102e+00,   9.99948797e-01,   4.33911931e-01,\n",
       "         3.62073901e-01,   3.46983152e-01,   2.47239422e-01,\n",
       "         1.70417438e-01,   1.36871051e-01,   7.98033091e-02,\n",
       "         4.91979044e-02,   3.00436116e-02,   1.63027125e-02,\n",
       "         1.47516008e-02,   1.51219793e-02,   8.51884548e-03,\n",
       "         6.52065299e-03,   5.90961761e-03,   4.68521082e-03,\n",
       "         3.66883036e-04,   1.03376404e-03,   2.02078877e-03,\n",
       "         1.55074169e-03,   0.00000000e+00])"
      ]
     },
     "execution_count": 9,
     "metadata": {},
     "output_type": "execute_result"
    }
   ],
   "source": [
    "eig_vals"
   ]
  },
  {
   "cell_type": "code",
   "execution_count": 11,
   "metadata": {
    "collapsed": false
   },
   "outputs": [
    {
     "data": {
      "text/plain": [
       "array([[ -1.46545743e-02,   2.59345981e-02,   4.37546811e-03, ...,\n",
       "          1.58903360e-03,   1.00514978e-03,   0.00000000e+00],\n",
       "       [  1.81730052e-03,   4.14564873e-03,  -7.96942943e-03, ...,\n",
       "          1.11108265e-05,  -3.08759933e-04,   0.00000000e+00],\n",
       "       [  1.18379310e-04,   1.26682890e-02,  -2.77163608e-02, ...,\n",
       "          9.44315915e-05,   1.02972888e-06,   0.00000000e+00],\n",
       "       ..., \n",
       "       [  2.58636604e-01,  -1.55757764e-01,   2.15775537e-01, ...,\n",
       "          6.62059090e-03,  -4.16637529e-03,   0.00000000e+00],\n",
       "       [  6.22316878e-03,  -2.38478361e-01,   3.08961140e-01, ...,\n",
       "         -2.40281763e-03,   1.41265328e-03,   0.00000000e+00],\n",
       "       [  3.03514912e-01,   8.08970947e-03,  -5.50720555e-02, ...,\n",
       "         -4.54422214e-03,   1.93076406e-03,   0.00000000e+00]])"
      ]
     },
     "execution_count": 11,
     "metadata": {},
     "output_type": "execute_result"
    }
   ],
   "source": [
    "eig_vecs"
   ]
  },
  {
   "cell_type": "code",
   "execution_count": 12,
   "metadata": {
    "collapsed": false
   },
   "outputs": [
    {
     "name": "stdout",
     "output_type": "stream",
     "text": [
      "Everything ok!\n"
     ]
    }
   ],
   "source": [
    "for ev in eig_vecs:\n",
    "    np.testing.assert_array_almost_equal(1.0, np.linalg.norm(ev))\n",
    "print('Everything ok!')"
   ]
  },
  {
   "cell_type": "code",
   "execution_count": 13,
   "metadata": {
    "collapsed": false
   },
   "outputs": [
    {
     "name": "stdout",
     "output_type": "stream",
     "text": [
      "Eigenvalues in descending order:\n",
      "9.7016491959\n",
      "4.67337121665\n",
      "3.79538755568\n",
      "3.40162435968\n",
      "1.76148101465\n",
      "1.52930291468\n",
      "1.13716717623\n",
      "1.11421908631\n",
      "1.02091237881\n",
      "1.00308738189\n",
      "1.00113675935\n",
      "1.00011102498\n",
      "0.99994879713\n",
      "0.986112556754\n",
      "0.978939524997\n",
      "0.963020549587\n",
      "0.858587557785\n",
      "0.745353084299\n",
      "0.733284803116\n",
      "0.662214802522\n",
      "0.433911930588\n",
      "0.362073900946\n",
      "0.346983152387\n",
      "0.247239422321\n",
      "0.170417437972\n",
      "0.136871051353\n",
      "0.0798033090956\n",
      "0.0491979043767\n",
      "0.0300436115576\n",
      "0.0163027124644\n",
      "0.0151219793122\n",
      "0.014751600814\n",
      "0.00851884548088\n",
      "0.00652065298527\n",
      "0.00590961761264\n",
      "0.0046852108245\n",
      "0.00202078876571\n",
      "0.00155074168671\n",
      "0.00103376403619\n",
      "0.000366883036171\n",
      "0.0\n"
     ]
    }
   ],
   "source": [
    "# Make a list of (eigenvalue, eigenvector) tuples\n",
    "eig_pairs = [(np.abs(eig_vals[i]), eig_vecs[:,i]) for i in range(len(eig_vals))]\n",
    "\n",
    "# Sort the (eigenvalue, eigenvector) tuples from high to low\n",
    "eig_pairs.sort()\n",
    "eig_pairs.reverse()\n",
    "\n",
    "# Visually confirm that the list is correctly sorted by decreasing eigenvalues\n",
    "print('Eigenvalues in descending order:')\n",
    "for i in eig_pairs:\n",
    "    print(i[0])"
   ]
  },
  {
   "cell_type": "code",
   "execution_count": 23,
   "metadata": {
    "collapsed": false
   },
   "outputs": [
    {
     "data": {
      "text/html": [
       "<script>requirejs.config({paths: { 'plotly': ['https://cdn.plot.ly/plotly-latest.min']},});if(!window.Plotly) {{require(['plotly'],function(plotly) {window.Plotly=plotly;});}}</script>"
      ],
      "text/vnd.plotly.v1+html": [
       "<script>requirejs.config({paths: { 'plotly': ['https://cdn.plot.ly/plotly-latest.min']},});if(!window.Plotly) {{require(['plotly'],function(plotly) {window.Plotly=plotly;});}}</script>"
      ]
     },
     "metadata": {},
     "output_type": "display_data"
    }
   ],
   "source": [
    "import plotly\n",
    "import plotly.plotly as py\n",
    "from plotly.graph_objs import *\n",
    "import plotly.tools as tls\n",
    "plotly.offline.init_notebook_mode(connected=True)"
   ]
  },
  {
   "cell_type": "code",
   "execution_count": 24,
   "metadata": {
    "collapsed": false
   },
   "outputs": [
    {
     "data": {
      "application/vnd.plotly.v1+json": {
       "data": [
        {
         "showlegend": false,
         "type": "bar",
         "x": [
          "PC 1",
          "PC 2",
          "PC 3",
          "PC 4",
          "PC 5",
          "PC 6",
          "PC 7",
          "PC 8",
          "PC 9",
          "PC 10",
          "PC 11",
          "PC 12",
          "PC 13",
          "PC 14",
          "PC 15",
          "PC 16",
          "PC 17",
          "PC 18",
          "PC 19",
          "PC 20",
          "PC 21",
          "PC 22",
          "PC 23",
          "PC 24",
          "PC 25",
          "PC 26",
          "PC 27",
          "PC 28",
          "PC 29",
          "PC 30",
          "PC 31",
          "PC 32",
          "PC 33",
          "PC 34",
          "PC 35",
          "PC 36",
          "PC 37",
          "PC 38",
          "PC 39",
          "PC 40",
          "PC 41"
         ],
         "y": [
          24.25397973445306,
          11.683359034278833,
          9.488412846218793,
          8.504010670566563,
          4.403676526450406,
          3.823234704902647,
          2.8429011490660883,
          2.7855312631234197,
          2.5522658721438116,
          2.507703643061929,
          2.502827115520172,
          2.5002627947394758,
          2.499857227506012,
          2.465266830873225,
          2.4473343573981086,
          2.4075371539335544,
          2.146456216492459,
          1.8633717048068834,
          1.833201180051482,
          1.6555272279901996,
          1.0847734192931113,
          0.9051794059551844,
          0.867452757387094,
          0.618094905045436,
          0.42604107853412393,
          0.34217560733499724,
          0.1995070943572134,
          0.12299403448175382,
          0.07510858526772524,
          0.04075654043398083,
          0.037804724988123095,
          0.03687878421184615,
          0.021296987912272084,
          0.016301536178724083,
          0.014773956769738831,
          0.011712957879079201,
          0.005051942075154155,
          0.0038768313184171983,
          0.002584394825849231,
          0.0009172021730043322,
          0
         ]
        },
        {
         "name": "cumulative explained variance",
         "type": "scatter",
         "x": [
          "PC 1",
          "PC 2",
          "PC 3",
          "PC 4",
          "PC 5",
          "PC 6",
          "PC 7",
          "PC 8",
          "PC 9",
          "PC 10",
          "PC 11",
          "PC 12",
          "PC 13",
          "PC 14",
          "PC 15",
          "PC 16",
          "PC 17",
          "PC 18",
          "PC 19",
          "PC 20",
          "PC 21",
          "PC 22",
          "PC 23",
          "PC 24",
          "PC 25",
          "PC 26",
          "PC 27",
          "PC 28",
          "PC 29",
          "PC 30",
          "PC 31",
          "PC 32",
          "PC 33",
          "PC 34",
          "PC 35",
          "PC 36",
          "PC 37",
          "PC 38",
          "PC 39",
          "PC 40",
          "PC 41"
         ],
         "y": [
          24.25397973445306,
          35.93733876873189,
          45.425751614950684,
          53.92976228551725,
          58.33343881196765,
          62.1566735168703,
          64.9995746659364,
          67.78510592905981,
          70.33737180120362,
          72.84507544426555,
          75.34790255978572,
          77.8481653545252,
          80.3480225820312,
          82.81328941290442,
          85.26062377030253,
          87.66816092423609,
          89.81461714072854,
          91.67798884553542,
          93.5111900255869,
          95.1667172535771,
          96.25149067287022,
          97.1566700788254,
          98.0241228362125,
          98.64221774125794,
          99.06825881979206,
          99.41043442712706,
          99.60994152148427,
          99.73293555596602,
          99.80804414123375,
          99.84880068166773,
          99.88660540665585,
          99.9234841908677,
          99.94478117877996,
          99.96108271495869,
          99.97585667172844,
          99.98756962960752,
          99.99262157168268,
          99.9964984030011,
          99.99908279782694,
          99.99999999999994,
          99.99999999999994
         ]
        }
       ],
       "layout": {
        "title": "Explained variance by different principal components",
        "yaxis": {
         "title": "Explained variance in percent"
        }
       }
      },
      "text/html": [
       "<div id=\"0c682dd9-5eb6-4806-b76f-d3fe5de3871d\" style=\"height: 525px; width: 100%;\" class=\"plotly-graph-div\"></div><script type=\"text/javascript\">require([\"plotly\"], function(Plotly) { window.PLOTLYENV=window.PLOTLYENV || {};window.PLOTLYENV.BASE_URL=\"https://plot.ly\";Plotly.newPlot(\"0c682dd9-5eb6-4806-b76f-d3fe5de3871d\", [{\"y\": [24.25397973445306, 11.683359034278833, 9.488412846218793, 8.504010670566563, 4.403676526450406, 3.823234704902647, 2.8429011490660883, 2.7855312631234197, 2.5522658721438116, 2.507703643061929, 2.502827115520172, 2.5002627947394758, 2.499857227506012, 2.465266830873225, 2.4473343573981086, 2.4075371539335544, 2.146456216492459, 1.8633717048068834, 1.833201180051482, 1.6555272279901996, 1.0847734192931113, 0.9051794059551844, 0.867452757387094, 0.618094905045436, 0.42604107853412393, 0.34217560733499724, 0.1995070943572134, 0.12299403448175382, 0.07510858526772524, 0.04075654043398083, 0.037804724988123095, 0.03687878421184615, 0.021296987912272084, 0.016301536178724083, 0.014773956769738831, 0.011712957879079201, 0.005051942075154155, 0.0038768313184171983, 0.002584394825849231, 0.0009172021730043322, 0.0], \"x\": [\"PC 1\", \"PC 2\", \"PC 3\", \"PC 4\", \"PC 5\", \"PC 6\", \"PC 7\", \"PC 8\", \"PC 9\", \"PC 10\", \"PC 11\", \"PC 12\", \"PC 13\", \"PC 14\", \"PC 15\", \"PC 16\", \"PC 17\", \"PC 18\", \"PC 19\", \"PC 20\", \"PC 21\", \"PC 22\", \"PC 23\", \"PC 24\", \"PC 25\", \"PC 26\", \"PC 27\", \"PC 28\", \"PC 29\", \"PC 30\", \"PC 31\", \"PC 32\", \"PC 33\", \"PC 34\", \"PC 35\", \"PC 36\", \"PC 37\", \"PC 38\", \"PC 39\", \"PC 40\", \"PC 41\"], \"showlegend\": false, \"type\": \"bar\"}, {\"y\": [24.25397973445306, 35.93733876873189, 45.425751614950684, 53.92976228551725, 58.33343881196765, 62.1566735168703, 64.9995746659364, 67.78510592905981, 70.33737180120362, 72.84507544426555, 75.34790255978572, 77.8481653545252, 80.3480225820312, 82.81328941290442, 85.26062377030253, 87.66816092423609, 89.81461714072854, 91.67798884553542, 93.5111900255869, 95.1667172535771, 96.25149067287022, 97.1566700788254, 98.0241228362125, 98.64221774125794, 99.06825881979206, 99.41043442712706, 99.60994152148427, 99.73293555596602, 99.80804414123375, 99.84880068166773, 99.88660540665585, 99.9234841908677, 99.94478117877996, 99.96108271495869, 99.97585667172844, 99.98756962960752, 99.99262157168268, 99.9964984030011, 99.99908279782694, 99.99999999999994, 99.99999999999994], \"x\": [\"PC 1\", \"PC 2\", \"PC 3\", \"PC 4\", \"PC 5\", \"PC 6\", \"PC 7\", \"PC 8\", \"PC 9\", \"PC 10\", \"PC 11\", \"PC 12\", \"PC 13\", \"PC 14\", \"PC 15\", \"PC 16\", \"PC 17\", \"PC 18\", \"PC 19\", \"PC 20\", \"PC 21\", \"PC 22\", \"PC 23\", \"PC 24\", \"PC 25\", \"PC 26\", \"PC 27\", \"PC 28\", \"PC 29\", \"PC 30\", \"PC 31\", \"PC 32\", \"PC 33\", \"PC 34\", \"PC 35\", \"PC 36\", \"PC 37\", \"PC 38\", \"PC 39\", \"PC 40\", \"PC 41\"], \"type\": \"scatter\", \"name\": \"cumulative explained variance\"}], {\"yaxis\": {\"title\": \"Explained variance in percent\"}, \"title\": \"Explained variance by different principal components\"}, {\"linkText\": \"Export to plot.ly\", \"showLink\": true})});</script>"
      ],
      "text/vnd.plotly.v1+html": [
       "<div id=\"0c682dd9-5eb6-4806-b76f-d3fe5de3871d\" style=\"height: 525px; width: 100%;\" class=\"plotly-graph-div\"></div><script type=\"text/javascript\">require([\"plotly\"], function(Plotly) { window.PLOTLYENV=window.PLOTLYENV || {};window.PLOTLYENV.BASE_URL=\"https://plot.ly\";Plotly.newPlot(\"0c682dd9-5eb6-4806-b76f-d3fe5de3871d\", [{\"y\": [24.25397973445306, 11.683359034278833, 9.488412846218793, 8.504010670566563, 4.403676526450406, 3.823234704902647, 2.8429011490660883, 2.7855312631234197, 2.5522658721438116, 2.507703643061929, 2.502827115520172, 2.5002627947394758, 2.499857227506012, 2.465266830873225, 2.4473343573981086, 2.4075371539335544, 2.146456216492459, 1.8633717048068834, 1.833201180051482, 1.6555272279901996, 1.0847734192931113, 0.9051794059551844, 0.867452757387094, 0.618094905045436, 0.42604107853412393, 0.34217560733499724, 0.1995070943572134, 0.12299403448175382, 0.07510858526772524, 0.04075654043398083, 0.037804724988123095, 0.03687878421184615, 0.021296987912272084, 0.016301536178724083, 0.014773956769738831, 0.011712957879079201, 0.005051942075154155, 0.0038768313184171983, 0.002584394825849231, 0.0009172021730043322, 0.0], \"x\": [\"PC 1\", \"PC 2\", \"PC 3\", \"PC 4\", \"PC 5\", \"PC 6\", \"PC 7\", \"PC 8\", \"PC 9\", \"PC 10\", \"PC 11\", \"PC 12\", \"PC 13\", \"PC 14\", \"PC 15\", \"PC 16\", \"PC 17\", \"PC 18\", \"PC 19\", \"PC 20\", \"PC 21\", \"PC 22\", \"PC 23\", \"PC 24\", \"PC 25\", \"PC 26\", \"PC 27\", \"PC 28\", \"PC 29\", \"PC 30\", \"PC 31\", \"PC 32\", \"PC 33\", \"PC 34\", \"PC 35\", \"PC 36\", \"PC 37\", \"PC 38\", \"PC 39\", \"PC 40\", \"PC 41\"], \"showlegend\": false, \"type\": \"bar\"}, {\"y\": [24.25397973445306, 35.93733876873189, 45.425751614950684, 53.92976228551725, 58.33343881196765, 62.1566735168703, 64.9995746659364, 67.78510592905981, 70.33737180120362, 72.84507544426555, 75.34790255978572, 77.8481653545252, 80.3480225820312, 82.81328941290442, 85.26062377030253, 87.66816092423609, 89.81461714072854, 91.67798884553542, 93.5111900255869, 95.1667172535771, 96.25149067287022, 97.1566700788254, 98.0241228362125, 98.64221774125794, 99.06825881979206, 99.41043442712706, 99.60994152148427, 99.73293555596602, 99.80804414123375, 99.84880068166773, 99.88660540665585, 99.9234841908677, 99.94478117877996, 99.96108271495869, 99.97585667172844, 99.98756962960752, 99.99262157168268, 99.9964984030011, 99.99908279782694, 99.99999999999994, 99.99999999999994], \"x\": [\"PC 1\", \"PC 2\", \"PC 3\", \"PC 4\", \"PC 5\", \"PC 6\", \"PC 7\", \"PC 8\", \"PC 9\", \"PC 10\", \"PC 11\", \"PC 12\", \"PC 13\", \"PC 14\", \"PC 15\", \"PC 16\", \"PC 17\", \"PC 18\", \"PC 19\", \"PC 20\", \"PC 21\", \"PC 22\", \"PC 23\", \"PC 24\", \"PC 25\", \"PC 26\", \"PC 27\", \"PC 28\", \"PC 29\", \"PC 30\", \"PC 31\", \"PC 32\", \"PC 33\", \"PC 34\", \"PC 35\", \"PC 36\", \"PC 37\", \"PC 38\", \"PC 39\", \"PC 40\", \"PC 41\"], \"type\": \"scatter\", \"name\": \"cumulative explained variance\"}], {\"yaxis\": {\"title\": \"Explained variance in percent\"}, \"title\": \"Explained variance by different principal components\"}, {\"linkText\": \"Export to plot.ly\", \"showLink\": true})});</script>"
      ]
     },
     "metadata": {},
     "output_type": "display_data"
    }
   ],
   "source": [
    "tot = sum(eig_vals)\n",
    "var_exp = [(i / tot)*100 for i in sorted(eig_vals, reverse=True)]\n",
    "cum_var_exp = np.cumsum(var_exp)\n",
    "\n",
    "trace1 = Bar(\n",
    "        x=['PC %s' %i for i in range(1,42)],\n",
    "        y=var_exp,\n",
    "        showlegend=False)\n",
    "\n",
    "trace2 = Scatter(\n",
    "        x=['PC %s' %i for i in range(1,42)], \n",
    "        y=cum_var_exp,\n",
    "        name='cumulative explained variance')\n",
    "\n",
    "data = Data([trace1, trace2])\n",
    "\n",
    "layout=Layout(\n",
    "        yaxis=YAxis(title='Explained variance in percent'),\n",
    "        title='Explained variance by different principal components')\n",
    "\n",
    "fig = Figure(data=data, layout=layout)\n",
    "plotly.offline.iplot(fig)"
   ]
  },
  {
   "cell_type": "code",
   "execution_count": null,
   "metadata": {
    "collapsed": true
   },
   "outputs": [],
   "source": [
    "from sklearn.decomposition import PCA as sklearnPCA\n",
    "sklearn_pca = sklearnPCA(n_components=25)\n",
    "Y_sklearn = sklearn_pca.fit_transform(train_std)\n",
    "test_sklearn = sklearn_pca.fit_transform(test_std)"
   ]
  },
  {
   "cell_type": "code",
   "execution_count": 55,
   "metadata": {
    "collapsed": false
   },
   "outputs": [
    {
     "data": {
      "text/plain": [
       "(169307, 12)"
      ]
     },
     "execution_count": 55,
     "metadata": {},
     "output_type": "execute_result"
    }
   ],
   "source": [
    "Y_sklearn.shape"
   ]
  },
  {
   "cell_type": "code",
   "execution_count": 56,
   "metadata": {
    "collapsed": false
   },
   "outputs": [
    {
     "data": {
      "text/plain": [
       "(91166, 12)"
      ]
     },
     "execution_count": 56,
     "metadata": {},
     "output_type": "execute_result"
    }
   ],
   "source": [
    "test_sklearn.shape"
   ]
  },
  {
   "cell_type": "code",
   "execution_count": 48,
   "metadata": {
    "collapsed": true
   },
   "outputs": [],
   "source": [
    "X_train, X_test, y_train, y_test = train_test_split(Y_sklearn, target, test_size=0.2, stratify=target,random_state=2017)"
   ]
  },
  {
   "cell_type": "code",
   "execution_count": 57,
   "metadata": {
    "collapsed": false
   },
   "outputs": [],
   "source": [
    "lgbclassifier = LGBMClassifier(random_state=2017, n_jobs=4)\n",
    "\n",
    "# lgbclassifier.fit(X_train,y_train)\n",
    "# pred_lgb = lgbclassifier.predict(X_test)\n",
    "# acc_lgb = accuracy_score(y_test,pred_lgb)\n",
    "# print acc_lgb\n",
    "# 0.77951686256\n",
    "\n",
    "lgbclassifier.fit(Y_sklearn,target)\n",
    "pred3 = lgbclassifier.predict(test_sklearn)  # 0.64736"
   ]
  },
  {
   "cell_type": "code",
   "execution_count": 58,
   "metadata": {
    "collapsed": true
   },
   "outputs": [],
   "source": [
    "sub = pd.read_csv('sample_submission.csv')\n",
    "sub['target'] = pred3\n",
    "sub['target'] = sub['target'].astype(int)\n",
    "sub.to_csv('sub5.csv', index=False)"
   ]
  },
  {
   "cell_type": "code",
   "execution_count": 8,
   "metadata": {
    "collapsed": false
   },
   "outputs": [
    {
     "name": "stderr",
     "output_type": "stream",
     "text": [
      "Using TensorFlow backend.\n"
     ]
    }
   ],
   "source": [
    "import os\n",
    "import tensorflow as tf\n",
    "import keras\n",
    "from tensorflow.contrib.tensorboard.plugins import projector"
   ]
  },
  {
   "cell_type": "code",
   "execution_count": 36,
   "metadata": {
    "collapsed": true
   },
   "outputs": [],
   "source": [
    "LOG_DIR = 'logs'\n",
    "metadata = os.path.join(LOG_DIR, 'metadata.tsv')"
   ]
  },
  {
   "cell_type": "code",
   "execution_count": 37,
   "metadata": {
    "collapsed": false
   },
   "outputs": [],
   "source": [
    "images = tf.Variable(train[predictor_variables].values, name='images')"
   ]
  },
  {
   "cell_type": "code",
   "execution_count": 38,
   "metadata": {
    "collapsed": true
   },
   "outputs": [],
   "source": [
    "with open(metadata, 'w') as metadata_file:\n",
    "    for row in target.values:\n",
    "        metadata_file.write('%d\\n' % row)"
   ]
  },
  {
   "cell_type": "code",
   "execution_count": 39,
   "metadata": {
    "collapsed": false
   },
   "outputs": [],
   "source": [
    "with tf.Session() as sess:\n",
    "    saver = tf.train.Saver([images])\n",
    "\n",
    "    sess.run(images.initializer)\n",
    "    saver.save(sess, os.path.join(LOG_DIR, 'images.ckpt'))\n",
    "    \n",
    "    config = projector.ProjectorConfig()\n",
    "    # One can add multiple embeddings.\n",
    "    embedding = config.embeddings.add()\n",
    "    embedding.tensor_name = images.name\n",
    "    # Link this tensor to its metadata file (e.g. labels).\n",
    "    embedding.metadata_path = metadata\n",
    "    # Saves a config file that TensorBoard will read during startup.\n",
    "    projector.visualize_embeddings(tf.summary.FileWriter(LOG_DIR), config)"
   ]
  },
  {
   "cell_type": "code",
   "execution_count": 14,
   "metadata": {
    "collapsed": false
   },
   "outputs": [
    {
     "data": {
      "text/plain": [
       "'/Users/hemanth/Datasets/PredictNetworkAttacks'"
      ]
     },
     "execution_count": 14,
     "metadata": {},
     "output_type": "execute_result"
    }
   ],
   "source": [
    "os.getcwd()"
   ]
  },
  {
   "cell_type": "code",
   "execution_count": null,
   "metadata": {
    "collapsed": true
   },
   "outputs": [],
   "source": [
    "# tensorboard --logdir=/Users/hemanth/Datasets/PredictNetworkAttacks/logs --port=6006"
   ]
  },
  {
   "cell_type": "code",
   "execution_count": 7,
   "metadata": {
    "collapsed": true
   },
   "outputs": [],
   "source": [
    "X_train_std = scaler.fit_transform(X_train_f)\n",
    "X_test_std = scaler.fit_transform(X_test_f)"
   ]
  },
  {
   "cell_type": "code",
   "execution_count": 59,
   "metadata": {
    "collapsed": true
   },
   "outputs": [],
   "source": [
    "from keras.models import Sequential\n",
    "from keras.layers import Dense, Dropout"
   ]
  },
  {
   "cell_type": "code",
   "execution_count": 64,
   "metadata": {
    "collapsed": true
   },
   "outputs": [],
   "source": [
    "# define variables\n",
    "input_num_units = 41\n",
    "hidden1_num_units = 20\n",
    "hidden2_num_units = 20\n",
    "hidden3_num_units = 20\n",
    "hidden4_num_units = 20\n",
    "hidden5_num_units = 20\n",
    "output_num_units = 3\n",
    "\n",
    "epochs = 50\n",
    "batch_size = 100"
   ]
  },
  {
   "cell_type": "code",
   "execution_count": 65,
   "metadata": {
    "collapsed": false
   },
   "outputs": [],
   "source": [
    "# Create model\n",
    "model = Sequential([\n",
    "        Dense(output_dim = hidden1_num_units, input_dim = input_num_units, activation='relu'),\n",
    "        Dropout(0.2),\n",
    "        Dense(output_dim = hidden2_num_units, input_dim = hidden1_num_units, activation='relu'),\n",
    "        Dropout(0.2),\n",
    "        Dense(output_dim = hidden3_num_units, input_dim = hidden2_num_units, activation='relu'),\n",
    "        Dropout(0.2),\n",
    "        Dense(output_dim = hidden4_num_units, input_dim = hidden3_num_units, activation='relu'),\n",
    "        Dropout(0.2),\n",
    "        Dense(output_dim = hidden5_num_units, input_dim = hidden4_num_units, activation='relu'),\n",
    "        Dropout(0.2),\n",
    "        Dense(output_dim = output_num_units, input_dim = hidden5_num_units, activation='softmax')\n",
    "    ])"
   ]
  },
  {
   "cell_type": "code",
   "execution_count": 66,
   "metadata": {
    "collapsed": true
   },
   "outputs": [],
   "source": [
    "# Compile model\n",
    "model.compile(loss='sparse_categorical_crossentropy', optimizer='adam', metrics=['accuracy'])"
   ]
  },
  {
   "cell_type": "code",
   "execution_count": 67,
   "metadata": {
    "collapsed": false
   },
   "outputs": [
    {
     "name": "stdout",
     "output_type": "stream",
     "text": [
      "Train on 135445 samples, validate on 33862 samples\n",
      "Epoch 1/50\n",
      "135445/135445 [==============================] - 10s - loss: 0.5566 - acc: 0.7649 - val_loss: 0.4928 - val_acc: 0.7778\n",
      "Epoch 2/50\n",
      "135445/135445 [==============================] - 9s - loss: 0.5020 - acc: 0.7764 - val_loss: 0.4900 - val_acc: 0.7781\n",
      "Epoch 3/50\n",
      "135445/135445 [==============================] - 10s - loss: 0.4967 - acc: 0.7771 - val_loss: 0.4866 - val_acc: 0.7786\n",
      "Epoch 4/50\n",
      "135445/135445 [==============================] - 9s - loss: 0.4926 - acc: 0.7776 - val_loss: 0.4847 - val_acc: 0.7787\n",
      "Epoch 5/50\n",
      "135445/135445 [==============================] - 9s - loss: 0.4898 - acc: 0.7780 - val_loss: 0.4836 - val_acc: 0.7788\n",
      "Epoch 6/50\n",
      "135445/135445 [==============================] - 10s - loss: 0.4879 - acc: 0.7782 - val_loss: 0.4827 - val_acc: 0.7790\n",
      "Epoch 7/50\n",
      "135445/135445 [==============================] - 9s - loss: 0.4864 - acc: 0.7782 - val_loss: 0.4816 - val_acc: 0.7792\n",
      "Epoch 8/50\n",
      "135445/135445 [==============================] - 9s - loss: 0.4845 - acc: 0.7786 - val_loss: 0.4792 - val_acc: 0.7799\n",
      "Epoch 9/50\n",
      "135445/135445 [==============================] - 9s - loss: 0.4828 - acc: 0.7791 - val_loss: 0.4803 - val_acc: 0.7796\n",
      "Epoch 10/50\n",
      "135445/135445 [==============================] - 10s - loss: 0.4823 - acc: 0.7792 - val_loss: 0.4791 - val_acc: 0.7797\n",
      "Epoch 11/50\n",
      "135445/135445 [==============================] - 9s - loss: 0.4813 - acc: 0.7793 - val_loss: 0.4785 - val_acc: 0.7801\n",
      "Epoch 12/50\n",
      "135445/135445 [==============================] - 9s - loss: 0.4804 - acc: 0.7792 - val_loss: 0.4777 - val_acc: 0.7801\n",
      "Epoch 13/50\n",
      "135445/135445 [==============================] - 10s - loss: 0.4804 - acc: 0.7792 - val_loss: 0.4780 - val_acc: 0.7800\n",
      "Epoch 14/50\n",
      "135445/135445 [==============================] - 9s - loss: 0.4809 - acc: 0.7794 - val_loss: 0.4783 - val_acc: 0.7803\n",
      "Epoch 15/50\n",
      "135445/135445 [==============================] - 9s - loss: 0.4806 - acc: 0.7795 - val_loss: 0.4777 - val_acc: 0.7803\n",
      "Epoch 16/50\n",
      "135445/135445 [==============================] - 9s - loss: 0.4797 - acc: 0.7796 - val_loss: 0.4781 - val_acc: 0.7804\n",
      "Epoch 17/50\n",
      "135445/135445 [==============================] - 10s - loss: 0.4798 - acc: 0.7795 - val_loss: 0.4776 - val_acc: 0.7801\n",
      "Epoch 18/50\n",
      "135445/135445 [==============================] - 9s - loss: 0.4799 - acc: 0.7797 - val_loss: 0.4782 - val_acc: 0.7803\n",
      "Epoch 19/50\n",
      "135445/135445 [==============================] - 10s - loss: 0.4804 - acc: 0.7796 - val_loss: 0.4780 - val_acc: 0.7803\n",
      "Epoch 20/50\n",
      "135445/135445 [==============================] - 9s - loss: 0.4798 - acc: 0.7796 - val_loss: 0.4784 - val_acc: 0.7803\n",
      "Epoch 21/50\n",
      "135445/135445 [==============================] - 9s - loss: 0.4794 - acc: 0.7796 - val_loss: 0.4780 - val_acc: 0.7802\n",
      "Epoch 22/50\n",
      "135445/135445 [==============================] - 9s - loss: 0.4794 - acc: 0.7797 - val_loss: 0.4778 - val_acc: 0.7804\n",
      "Epoch 23/50\n",
      "135445/135445 [==============================] - 10s - loss: 0.4802 - acc: 0.7797 - val_loss: 0.4776 - val_acc: 0.7803\n",
      "Epoch 24/50\n",
      "135445/135445 [==============================] - 10s - loss: 0.4798 - acc: 0.7796 - val_loss: 0.4785 - val_acc: 0.7803\n",
      "Epoch 25/50\n",
      "135445/135445 [==============================] - 9s - loss: 0.4785 - acc: 0.7797 - val_loss: 0.4773 - val_acc: 0.7804\n",
      "Epoch 26/50\n",
      "135445/135445 [==============================] - 9s - loss: 0.4793 - acc: 0.7797 - val_loss: 0.4772 - val_acc: 0.7804\n",
      "Epoch 27/50\n",
      "135445/135445 [==============================] - 10s - loss: 0.4793 - acc: 0.7798 - val_loss: 0.4787 - val_acc: 0.7805\n",
      "Epoch 28/50\n",
      "135445/135445 [==============================] - 9s - loss: 0.4788 - acc: 0.7796 - val_loss: 0.4780 - val_acc: 0.7805\n",
      "Epoch 29/50\n",
      "135445/135445 [==============================] - 9s - loss: 0.4788 - acc: 0.7795 - val_loss: 0.4772 - val_acc: 0.7805\n",
      "Epoch 30/50\n",
      "135445/135445 [==============================] - 9s - loss: 0.4791 - acc: 0.7798 - val_loss: 0.4777 - val_acc: 0.7805\n",
      "Epoch 31/50\n",
      "135445/135445 [==============================] - 10s - loss: 0.4790 - acc: 0.7798 - val_loss: 0.4774 - val_acc: 0.7803\n",
      "Epoch 32/50\n",
      "135445/135445 [==============================] - 10s - loss: 0.4781 - acc: 0.7798 - val_loss: 0.4771 - val_acc: 0.7804\n",
      "Epoch 33/50\n",
      "135445/135445 [==============================] - 9s - loss: 0.4783 - acc: 0.7798 - val_loss: 0.4784 - val_acc: 0.7803\n",
      "Epoch 34/50\n",
      "135445/135445 [==============================] - 10s - loss: 0.4786 - acc: 0.7798 - val_loss: 0.4773 - val_acc: 0.7803\n",
      "Epoch 35/50\n",
      "135445/135445 [==============================] - 10s - loss: 0.4790 - acc: 0.7797 - val_loss: 0.4774 - val_acc: 0.7805\n",
      "Epoch 36/50\n",
      "135445/135445 [==============================] - 10s - loss: 0.4788 - acc: 0.7798 - val_loss: 0.4772 - val_acc: 0.7805\n",
      "Epoch 37/50\n",
      "135445/135445 [==============================] - 10s - loss: 0.4784 - acc: 0.7798 - val_loss: 0.4770 - val_acc: 0.7804\n",
      "Epoch 38/50\n",
      "135445/135445 [==============================] - 10s - loss: 0.4786 - acc: 0.7798 - val_loss: 0.4769 - val_acc: 0.7804\n",
      "Epoch 39/50\n",
      "135445/135445 [==============================] - 10s - loss: 0.4778 - acc: 0.7800 - val_loss: 0.4781 - val_acc: 0.7804\n",
      "Epoch 40/50\n",
      "135445/135445 [==============================] - 9s - loss: 0.4790 - acc: 0.7798 - val_loss: 0.4772 - val_acc: 0.7803\n",
      "Epoch 41/50\n",
      "135445/135445 [==============================] - 10s - loss: 0.4784 - acc: 0.7797 - val_loss: 0.4770 - val_acc: 0.7804\n",
      "Epoch 42/50\n",
      "135445/135445 [==============================] - 10s - loss: 0.4787 - acc: 0.7796 - val_loss: 0.4773 - val_acc: 0.7805\n",
      "Epoch 43/50\n",
      "135445/135445 [==============================] - 10s - loss: 0.4790 - acc: 0.7796 - val_loss: 0.4775 - val_acc: 0.7803\n",
      "Epoch 44/50\n",
      "135445/135445 [==============================] - 10s - loss: 0.4788 - acc: 0.7795 - val_loss: 0.4775 - val_acc: 0.7804\n",
      "Epoch 45/50\n",
      "135445/135445 [==============================] - 10s - loss: 0.4778 - acc: 0.7798 - val_loss: 0.4771 - val_acc: 0.7804\n",
      "Epoch 46/50\n",
      "135445/135445 [==============================] - 10s - loss: 0.4783 - acc: 0.7798 - val_loss: 0.4769 - val_acc: 0.7804\n",
      "Epoch 47/50\n",
      "135445/135445 [==============================] - 10s - loss: 0.4785 - acc: 0.7796 - val_loss: 0.4778 - val_acc: 0.7803\n",
      "Epoch 48/50\n",
      "135445/135445 [==============================] - 10s - loss: 0.4782 - acc: 0.7797 - val_loss: 0.4768 - val_acc: 0.7805\n",
      "Epoch 49/50\n",
      "135445/135445 [==============================] - 10s - loss: 0.4782 - acc: 0.7798 - val_loss: 0.4784 - val_acc: 0.7803\n",
      "Epoch 50/50\n",
      "135445/135445 [==============================] - 9s - loss: 0.4776 - acc: 0.7798 - val_loss: 0.4786 - val_acc: 0.7803\n"
     ]
    }
   ],
   "source": [
    "# Train model\n",
    "trained_model = model.fit(X_train_std, y_train_f, nb_epoch=epochs, batch_size=batch_size, \n",
    "                          validation_data=(X_test_std, y_test_f))"
   ]
  },
  {
   "cell_type": "code",
   "execution_count": null,
   "metadata": {
    "collapsed": true
   },
   "outputs": [],
   "source": []
  }
 ],
 "metadata": {
  "kernelspec": {
   "display_name": "Python 2",
   "language": "python",
   "name": "python2"
  },
  "language_info": {
   "codemirror_mode": {
    "name": "ipython",
    "version": 2
   },
   "file_extension": ".py",
   "mimetype": "text/x-python",
   "name": "python",
   "nbconvert_exporter": "python",
   "pygments_lexer": "ipython2",
   "version": "2.7.10"
  }
 },
 "nbformat": 4,
 "nbformat_minor": 1
}
