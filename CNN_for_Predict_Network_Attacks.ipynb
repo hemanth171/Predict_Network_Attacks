{
 "cells": [
  {
   "cell_type": "code",
   "execution_count": 1,
   "metadata": {
    "collapsed": true
   },
   "outputs": [],
   "source": [
    "import numpy as np\n",
    "import pandas as pd\n",
    "\n",
    "from sklearn.metrics import accuracy_score\n",
    "from sklearn.preprocessing import StandardScaler\n",
    "from sklearn.model_selection import train_test_split, GridSearchCV"
   ]
  },
  {
   "cell_type": "code",
   "execution_count": 2,
   "metadata": {
    "collapsed": true
   },
   "outputs": [],
   "source": [
    "train = pd.read_csv('train_data.csv')\n",
    "test = pd.read_csv('test_data.csv')"
   ]
  },
  {
   "cell_type": "code",
   "execution_count": 40,
   "metadata": {
    "collapsed": true
   },
   "outputs": [],
   "source": [
    "predictor_variables = [x for x in train.columns if x not in ['connection_id','target','cat_4','cat_6','cat_17','cat_18']]\n",
    "target = train['target']"
   ]
  },
  {
   "cell_type": "code",
   "execution_count": 12,
   "metadata": {
    "collapsed": true
   },
   "outputs": [],
   "source": [
    "train_data_in_float = train[predictor_variables].astype(float)\n",
    "test_data_in_float = test[predictor_variables].astype(float)"
   ]
  },
  {
   "cell_type": "code",
   "execution_count": 13,
   "metadata": {
    "collapsed": true
   },
   "outputs": [],
   "source": [
    "scaler = StandardScaler()"
   ]
  },
  {
   "cell_type": "code",
   "execution_count": 14,
   "metadata": {
    "collapsed": true
   },
   "outputs": [],
   "source": [
    "train_std = scaler.fit_transform(train_data_in_float)\n",
    "test_std = scaler.fit_transform(test_data_in_float)"
   ]
  },
  {
   "cell_type": "code",
   "execution_count": 15,
   "metadata": {
    "collapsed": false
   },
   "outputs": [],
   "source": [
    "from sklearn.decomposition import PCA as sklearnPCA\n",
    "sklearn_pca = sklearnPCA(n_components=16)"
   ]
  },
  {
   "cell_type": "code",
   "execution_count": 16,
   "metadata": {
    "collapsed": false
   },
   "outputs": [
    {
     "data": {
      "text/plain": [
       "PCA(copy=True, iterated_power='auto', n_components=16, random_state=None,\n",
       "  svd_solver='auto', tol=0.0, whiten=False)"
      ]
     },
     "execution_count": 16,
     "metadata": {},
     "output_type": "execute_result"
    }
   ],
   "source": [
    "sklearn_pca.fit(train_std)"
   ]
  },
  {
   "cell_type": "code",
   "execution_count": 19,
   "metadata": {
    "collapsed": true
   },
   "outputs": [],
   "source": [
    "Y_sklearn = sklearn_pca.transform(train_std)\n",
    "test_sklearn = sklearn_pca.transform(test_std)"
   ]
  },
  {
   "cell_type": "code",
   "execution_count": 21,
   "metadata": {
    "collapsed": false
   },
   "outputs": [
    {
     "data": {
      "text/plain": [
       "(169307, 16)"
      ]
     },
     "execution_count": 21,
     "metadata": {},
     "output_type": "execute_result"
    }
   ],
   "source": [
    "Y_sklearn.shape"
   ]
  },
  {
   "cell_type": "code",
   "execution_count": 22,
   "metadata": {
    "collapsed": false
   },
   "outputs": [
    {
     "data": {
      "text/plain": [
       "(91166, 16)"
      ]
     },
     "execution_count": 22,
     "metadata": {},
     "output_type": "execute_result"
    }
   ],
   "source": [
    "test_sklearn.shape"
   ]
  },
  {
   "cell_type": "code",
   "execution_count": 37,
   "metadata": {
    "collapsed": false
   },
   "outputs": [],
   "source": [
    "import tensorflow as tf\n",
    "import keras\n",
    "\n",
    "from keras.models import Sequential\n",
    "from keras.layers import Dense, Activation, Dropout, Convolution2D, Flatten, MaxPooling2D, Reshape, InputLayer, ZeroPadding2D"
   ]
  },
  {
   "cell_type": "code",
   "execution_count": 25,
   "metadata": {
    "collapsed": false
   },
   "outputs": [],
   "source": [
    "# Reshape data\n",
    "train_x_temp = Y_sklearn.reshape(-1, 4, 4, 1)\n",
    "test_x_temp = test_sklearn.reshape(-1, 4, 4, 1)"
   ]
  },
  {
   "cell_type": "code",
   "execution_count": 26,
   "metadata": {
    "collapsed": false
   },
   "outputs": [
    {
     "data": {
      "text/plain": [
       "(169307, 4, 4, 1)"
      ]
     },
     "execution_count": 26,
     "metadata": {},
     "output_type": "execute_result"
    }
   ],
   "source": [
    "train_x_temp.shape"
   ]
  },
  {
   "cell_type": "code",
   "execution_count": 58,
   "metadata": {
    "collapsed": true
   },
   "outputs": [],
   "source": [
    "# define vars\n",
    "input_reshape = (4, 4, 1)\n",
    "\n",
    "conv_num_filters = 5\n",
    "conv_filter_size = 2\n",
    "\n",
    "pool_size = (2, 2)\n",
    "\n",
    "hidden_num_units = 50\n",
    "output_num_units = 3\n",
    "\n",
    "epochs = 5\n",
    "batch_size = 100"
   ]
  },
  {
   "cell_type": "code",
   "execution_count": 59,
   "metadata": {
    "collapsed": false
   },
   "outputs": [],
   "source": [
    "# Create Model\n",
    "model = Sequential([\n",
    " InputLayer(input_shape=input_reshape),\n",
    "        \n",
    " ZeroPadding2D(padding=(4, 4)),\n",
    "\n",
    " Convolution2D(25, 2, 2, activation='relu'),\n",
    " MaxPooling2D(pool_size=pool_size),\n",
    "\n",
    " Convolution2D(25, 2, 2, activation='relu'),\n",
    " MaxPooling2D(pool_size=pool_size),\n",
    "\n",
    " Convolution2D(25, 2, 2, activation='relu'),\n",
    "\n",
    " Flatten(),\n",
    "\n",
    " Dense(output_dim=hidden_num_units, activation='relu'),\n",
    "\n",
    " Dense(output_dim=output_num_units, input_dim=hidden_num_units, activation='softmax'),\n",
    "])"
   ]
  },
  {
   "cell_type": "code",
   "execution_count": 60,
   "metadata": {
    "collapsed": true
   },
   "outputs": [],
   "source": [
    "# Compile Model\n",
    "model.compile(loss='categorical_crossentropy', optimizer='adam', metrics=['accuracy'])"
   ]
  },
  {
   "cell_type": "code",
   "execution_count": 61,
   "metadata": {
    "collapsed": false
   },
   "outputs": [
    {
     "name": "stdout",
     "output_type": "stream",
     "text": [
      "Train on 135445 samples, validate on 33862 samples\n",
      "Epoch 1/5\n",
      "135445/135445 [==============================] - 21s - loss: 0.5132 - acc: 0.7745 - val_loss: 0.5032 - val_acc: 0.7735\n",
      "Epoch 2/5\n",
      "135445/135445 [==============================] - 21s - loss: 0.4936 - acc: 0.7780 - val_loss: 0.5002 - val_acc: 0.7739\n",
      "Epoch 3/5\n",
      "135445/135445 [==============================] - 21s - loss: 0.4906 - acc: 0.7785 - val_loss: 0.4973 - val_acc: 0.7746\n",
      "Epoch 4/5\n",
      "135445/135445 [==============================] - 21s - loss: 0.4874 - acc: 0.7789 - val_loss: 0.4940 - val_acc: 0.7737\n",
      "Epoch 5/5\n",
      "135445/135445 [==============================] - 21s - loss: 0.4856 - acc: 0.7791 - val_loss: 0.4913 - val_acc: 0.7752\n"
     ]
    }
   ],
   "source": [
    "trained_model_conv = model.fit(train_x_temp, train_y, nb_epoch=epochs, batch_size=batch_size, validation_split=0.2)"
   ]
  },
  {
   "cell_type": "code",
   "execution_count": 47,
   "metadata": {
    "collapsed": true
   },
   "outputs": [],
   "source": [
    "train_y = keras.utils.np_utils.to_categorical(target.values)"
   ]
  },
  {
   "cell_type": "code",
   "execution_count": 48,
   "metadata": {
    "collapsed": false
   },
   "outputs": [
    {
     "data": {
      "text/plain": [
       "(169307, 3)"
      ]
     },
     "execution_count": 48,
     "metadata": {},
     "output_type": "execute_result"
    }
   ],
   "source": [
    "train_y.shape"
   ]
  },
  {
   "cell_type": "code",
   "execution_count": 49,
   "metadata": {
    "collapsed": false
   },
   "outputs": [
    {
     "data": {
      "text/plain": [
       "array([[ 0.,  0.,  1.],\n",
       "       [ 1.,  0.,  0.],\n",
       "       [ 1.,  0.,  0.],\n",
       "       ..., \n",
       "       [ 0.,  1.,  0.],\n",
       "       [ 1.,  0.,  0.],\n",
       "       [ 0.,  1.,  0.]])"
      ]
     },
     "execution_count": 49,
     "metadata": {},
     "output_type": "execute_result"
    }
   ],
   "source": [
    "train_y"
   ]
  },
  {
   "cell_type": "code",
   "execution_count": 13,
   "metadata": {
    "collapsed": false
   },
   "outputs": [],
   "source": [
    "col_names = train.columns[19:42].tolist()"
   ]
  },
  {
   "cell_type": "code",
   "execution_count": 19,
   "metadata": {
    "collapsed": false
   },
   "outputs": [
    {
     "name": "stdout",
     "output_type": "stream",
     "text": [
      "[1 2 3]\n",
      "[ 1  2  3  4  5  6  7  8  9 10 11 12 13 14 15 16 17 18 19 20 21 22 23 24 25\n",
      " 26 27 28 29 30 31 32 33 34 35 36 37 38 40 41 42 43 44 45 46 47 48 49 50 51\n",
      " 52 53 54 55 56 57 58 59 60 61 62 63 65 69]\n",
      "[ 1  2  3  4  5  6  7  8  9 10 11]\n",
      "[0 1]\n",
      "[0 1 3]\n",
      "[0 2]\n",
      "[ 0  1  2  3  4  5  6 10 13 14 18 19 20 21 22 24 28 30]\n",
      "[0 1]\n",
      "[0 1]\n",
      "[  0   1   2   3   4   6   8  21 254 378 435]\n",
      "[0 1]\n",
      "[0 1 2]\n",
      "[  0   1   2   4   5   6   9 289 421 480]\n",
      "[ 0  1  2  3  4  5 13 14 22 25]\n",
      "[0 1 2]\n",
      "[0 1 2 3 4 5]\n",
      "[0]\n",
      "[0 1]\n",
      "[0 1]\n",
      "[  0   1   2   3   4   5   6   7   8   9  10  11  12  13  14  15  16  17\n",
      "  18  19  20  21  22  23  24  25  26  27  28  29  30  31  32  33  34  35\n",
      "  36  37  38  39  40  41  42  43  44  45  46  47  48  49  50  51  52  53\n",
      "  54  55  56  57  58  59  60  61  62  63  64  65  66  67  68  69  70  71\n",
      "  72  73  74  75  76  77  78  79  80  81  82  83  84  85  86  87  88  89\n",
      "  90  91  92  93  94  95  96  97  98  99 100 101 102 103 104 105 106 107\n",
      " 108 109 110 111 112 113 114 115 116 117 118 119 120 121 122 123 124 125\n",
      " 126 127 128 129 130 131 132 133 134 135 136 137 138 139 140 141 142 143\n",
      " 144 145 146 147 148 149 150 151 152 153 154 155 156 157 158 159 160 161\n",
      " 162 163 164 165 166 167 168 169 170 171 172 173 174 175 176 177 178 179\n",
      " 180 181 182 183 184 185 186 187 188 189 190 191 192 193 194 195 196 197\n",
      " 198 199 200 201 202 203 204 205 206 207 208 209 210 211 212 213 214 215\n",
      " 216 217 218 219 220 221 222 223 224 225 226 227 228 229 230 231 232 233\n",
      " 234 235 236 237 238 239 240 241 242 243 244 245 246 247 248 249 250 251\n",
      " 252 253 254 255 256 257 258 259 260 261 262 263 264 265 266 267 268 269\n",
      " 270 271 272 273 274 275 276 277 278 279 280 281 282 283 284 285 286 287\n",
      " 288 289 290 291 292 293 294 295 296 297 298 299 300 301 302 303 305 306\n",
      " 308 310 311 313 314 316 317 318 319 320 323 331 333 335 337 342 346 348\n",
      " 349 353 354 359 362 364 365 368 370 375 377 381 382 383 386 387 389 390\n",
      " 393 396 398 400 406 409 412 413 416 419 420 421 424 425 428 429 430 431\n",
      " 432 434 435 436 437 438 439 440 441 442 443 444 445 446 447 448 449 450\n",
      " 451 452 453 454 455 456 457 458 459 460 461 462 463 464 465 466 467 468\n",
      " 469 470 471 472 473 474 475 476 477 478 479 480 481 482 483 484 485 486\n",
      " 487 488 489 490 491 492 493 494 495 496 497 498 499 500 501 502 503 504\n",
      " 505 506 507 508 509 510 511]\n",
      "[  0   1   2   3   4   5   6   7   8   9  10  11  12  13  14  15  16  17\n",
      "  18  19  20  21  22  23  24  25  26  27  28  29  30  31  32  33  34  35\n",
      "  36  37  38  39  40  41  42  43  44  45  46  47  48  49  50  51  52  53\n",
      "  54  55  56  57  58  59  60  61  62  63  64  65  66  67  68  69  70  71\n",
      "  72  73  74  75  76  77  78  79  80  81  82  83  84  85  86  87  88  89\n",
      "  90  91  92  93  94  95  96  97  98  99 100 101 102 103 104 105 106 107\n",
      " 108 109 110 111 112 113 114 115 116 117 118 119 120 121 122 123 124 125\n",
      " 126 127 128 129 130 131 132 133 134 135 136 137 138 139 140 141 142 143\n",
      " 144 145 146 147 148 149 150 151 152 153 154 155 156 157 158 159 160 161\n",
      " 162 163 164 165 166 167 168 169 170 171 172 173 174 175 176 177 178 179\n",
      " 180 181 182 183 184 185 186 187 188 189 190 191 192 193 194 195 196 197\n",
      " 198 200 202 203 204 205 207 208 209 210 212 213 214 217 218 219 220 221\n",
      " 222 223 224 225 226 228 229 230 234 236 237 238 240 241 242 243 244 245\n",
      " 248 249 250 251 254 255 256 257 260 266 267 269 270 275 276 277 278 279\n",
      " 280 282 283 285 286 287 291 293 294 295 296 298 301 302 303 304 305 306\n",
      " 310 311 313 315 316 317 318 320 323 331 333 335 337 342 346 349 353 354\n",
      " 359 364 365 368 370 377 381 382 383 386 389 390 393 396 398 400 409 413\n",
      " 419 420 421 424 425 429 430 431 432 434 435 436 437 438 439 440 441 442\n",
      " 443 444 445 446 447 448 449 450 451 452 453 454 455 456 457 458 459 460\n",
      " 461 462 463 464 465 466 467 468 469 470 471 472 473 474 475 476 477 478\n",
      " 479 480 481 482 483 484 485 486 487 488 489 490 491 492 493 494 495 496\n",
      " 497 498 499 500 501 502 503 504 505 506 507 508 509 510 511]\n",
      "[  0   1   2   3   4   5   6   7   8   9  10  11  12  13  14  15  16  17\n",
      "  18  19  20  21  22  23  24  25  26  27  28  29  30  31  32  33  34  35\n",
      "  36  37  38  39  40  41  42  43  44  45  46  47  48  49  50  51  52  53\n",
      "  54  55  56  57  58  59  60  61  62  63  64  65  66  67  68  69  70  71\n",
      "  72  73  74  75  76  77  78  79  80  81  82  83  84  85  86  87  88  89\n",
      "  90  91  92  93  94  95  96  97  98  99 100 101 102 103 104 105 106 107\n",
      " 108 109 110 111 112 113 114 115 116 117 118 119 120 121 122 123 124 125\n",
      " 126 127 128 129 130 131 132 133 134 135 136 137 138 139 140 141 142 143\n",
      " 144 145 146 147 148 149 150 151 152 153 154 155 156 157 158 159 160 161\n",
      " 162 163 164 165 166 167 168 169 170 171 172 173 174 175 176 177 178 179\n",
      " 180 181 182 183 184 185 186 187 188 189 190 191 192 193 194 195 196 197\n",
      " 198 199 200 201 202 203 204 205 206 207 208 209 210 211 212 213 214 215\n",
      " 216 217 218 219 220 221 222 223 224 225 226 227 228 229 230 231 232 233\n",
      " 234 235 236 237 238 239 240 241 242 243 244 245 246 247 248 249 250 251\n",
      " 252 253 254 255]\n",
      "[  0   1   2   3   4   5   6   7   8   9  10  11  12  13  14  15  16  17\n",
      "  18  19  20  21  22  23  24  25  26  27  28  29  30  31  32  33  34  35\n",
      "  36  37  38  39  40  41  42  43  44  45  46  47  48  49  50  51  52  53\n",
      "  54  55  56  57  58  59  60  61  62  63  64  65  66  67  68  69  70  71\n",
      "  72  73  74  75  76  77  78  79  80  81  82  83  84  85  86  87  88  89\n",
      "  90  91  92  93  94  95  96  97  98  99 100 101 102 103 104 105 106 107\n",
      " 108 109 110 111 112 113 114 115 116 117 118 119 120 121 122 123 124 125\n",
      " 126 127 128 129 130 131 132 133 134 135 136 137 138 139 140 141 142 143\n",
      " 144 145 146 147 148 149 150 151 152 153 154 155 156 157 158 159 160 161\n",
      " 162 163 164 165 166 167 168 169 170 171 172 173 174 175 176 177 178 179\n",
      " 180 181 182 183 184 185 186 187 188 189 190 191 192 193 194 195 196 197\n",
      " 198 199 200 201 202 203 204 205 206 207 208 209 210 211 212 213 214 215\n",
      " 216 217 218 219 220 221 222 223 224 225 226 227 228 229 230 231 232 233\n",
      " 234 235 236 237 238 239 240 241 242 243 244 245 246 247 248 249 250 251\n",
      " 252 253 254 255]\n"
     ]
    }
   ],
   "source": [
    "for col in col_names:\n",
    "    print (np.unique(train[col]))"
   ]
  },
  {
   "cell_type": "code",
   "execution_count": 3,
   "metadata": {
    "collapsed": true
   },
   "outputs": [],
   "source": [
    "train_cont_col_names = train.columns[1:19].tolist()\n",
    "test_cont_col_names = test.columns[1:19].tolist()"
   ]
  },
  {
   "cell_type": "code",
   "execution_count": 12,
   "metadata": {
    "collapsed": false
   },
   "outputs": [],
   "source": [
    "train_list = train['cont_1']\n",
    "for x in train_cont_col_names:\n",
    "    train_list = np.add(train_list, train[x])"
   ]
  },
  {
   "cell_type": "code",
   "execution_count": 15,
   "metadata": {
    "collapsed": false
   },
   "outputs": [],
   "source": [
    "train['total_cont'] = train_list"
   ]
  },
  {
   "cell_type": "code",
   "execution_count": 16,
   "metadata": {
    "collapsed": false
   },
   "outputs": [
    {
     "name": "stdout",
     "output_type": "stream",
     "text": [
      "<class 'pandas.core.frame.DataFrame'>\n",
      "RangeIndex: 169307 entries, 0 to 169306\n",
      "Data columns (total 44 columns):\n",
      "connection_id    169307 non-null object\n",
      "cont_1           169307 non-null int64\n",
      "cont_2           169307 non-null int64\n",
      "cont_3           169307 non-null int64\n",
      "cont_4           169307 non-null float64\n",
      "cont_5           169307 non-null float64\n",
      "cont_6           169307 non-null float64\n",
      "cont_7           169307 non-null float64\n",
      "cont_8           169307 non-null float64\n",
      "cont_9           169307 non-null float64\n",
      "cont_10          169307 non-null float64\n",
      "cont_11          169307 non-null float64\n",
      "cont_12          169307 non-null float64\n",
      "cont_13          169307 non-null float64\n",
      "cont_14          169307 non-null float64\n",
      "cont_15          169307 non-null float64\n",
      "cont_16          169307 non-null float64\n",
      "cont_17          169307 non-null float64\n",
      "cont_18          169307 non-null float64\n",
      "cat_1            169307 non-null int64\n",
      "cat_2            169307 non-null int64\n",
      "cat_3            169307 non-null int64\n",
      "cat_4            169307 non-null int64\n",
      "cat_5            169307 non-null int64\n",
      "cat_6            169307 non-null int64\n",
      "cat_7            169307 non-null int64\n",
      "cat_8            169307 non-null int64\n",
      "cat_9            169307 non-null int64\n",
      "cat_10           169307 non-null int64\n",
      "cat_11           169307 non-null int64\n",
      "cat_12           169307 non-null int64\n",
      "cat_13           169307 non-null int64\n",
      "cat_14           169307 non-null int64\n",
      "cat_15           169307 non-null int64\n",
      "cat_16           169307 non-null int64\n",
      "cat_17           169307 non-null int64\n",
      "cat_18           169307 non-null int64\n",
      "cat_19           169307 non-null int64\n",
      "cat_20           169307 non-null int64\n",
      "cat_21           169307 non-null int64\n",
      "cat_22           169307 non-null int64\n",
      "cat_23           169307 non-null int64\n",
      "target           169307 non-null int64\n",
      "total_cont       169307 non-null float64\n",
      "dtypes: float64(16), int64(27), object(1)\n",
      "memory usage: 56.8+ MB\n"
     ]
    }
   ],
   "source": [
    "train.info()"
   ]
  },
  {
   "cell_type": "code",
   "execution_count": 34,
   "metadata": {
    "collapsed": true
   },
   "outputs": [],
   "source": [
    "train_cont_col_names.append('connection_id')\n",
    "train_cont_col_names.append('target')\n",
    "train_cont_col_names.append('cat_4')\n",
    "train_cont_col_names.append('cat_6')\n",
    "train_cont_col_names.append('cat_11')\n",
    "train_cont_col_names.append('cat_12')\n",
    "train_cont_col_names.append('cat_15')\n",
    "train_cont_col_names.append('cat_17')\n",
    "train_cont_col_names.append('cat_18')"
   ]
  },
  {
   "cell_type": "code",
   "execution_count": 35,
   "metadata": {
    "collapsed": true
   },
   "outputs": [],
   "source": [
    "predictor_variables = [x for x in train.columns if x not in train_cont_col_names]\n",
    "target = train['target']"
   ]
  },
  {
   "cell_type": "code",
   "execution_count": 41,
   "metadata": {
    "collapsed": true
   },
   "outputs": [],
   "source": [
    "X_train, X_test, y_train, y_test = train_test_split(train[predictor_variables], target, test_size=0.2, stratify=target,random_state=2017)"
   ]
  },
  {
   "cell_type": "code",
   "execution_count": 42,
   "metadata": {
    "collapsed": false
   },
   "outputs": [],
   "source": [
    "# Import LightGBM and sklearn LightGBM\n",
    "import lightgbm as lgb\n",
    "from lightgbm.sklearn import LGBMClassifier"
   ]
  },
  {
   "cell_type": "code",
   "execution_count": 43,
   "metadata": {
    "collapsed": false
   },
   "outputs": [
    {
     "name": "stdout",
     "output_type": "stream",
     "text": [
      "0.780727659323\n"
     ]
    }
   ],
   "source": [
    "lgbclassifier = LGBMClassifier(random_state=2017, n_jobs=4)\n",
    "\n",
    "lgbclassifier.fit(X_train,y_train)\n",
    "pred_lgb = lgbclassifier.predict(X_test)\n",
    "acc_lgb = accuracy_score(y_test,pred_lgb)\n",
    "print acc_lgb\n",
    "# 0.780757190952\n",
    "\n",
    "# lgbclassifier.fit(train[predictor_variables],target)\n",
    "# pred3 = lgbclassifier.predict(test[predictor_variables])  # 0.64736"
   ]
  },
  {
   "cell_type": "code",
   "execution_count": 45,
   "metadata": {
    "collapsed": true
   },
   "outputs": [],
   "source": [
    "# Import LightGBM and sklearn LightGBM\n",
    "import lightgbm as lgb\n",
    "from lightgbm.sklearn import LGBMClassifier\n",
    "\n",
    "def gridSearchCV_lgb_clf(params):\n",
    "    gsearch = GridSearchCV(estimator=LGBMClassifier(learning_rate=0.05,\n",
    "                   n_estimators=100,\n",
    "                   max_depth=10,\n",
    "                   num_leaves=32,\n",
    "                   max_bin=264,\n",
    "                   subsample=0.6,\n",
    "                   colsample_bytree=0.8,\n",
    "                   random_state=2017), param_grid=params,\n",
    "                       scoring='accuracy',\n",
    "                       iid=False,\n",
    "                       cv=5)\n",
    "    \n",
    "    gsearch.fit(train[predictor_variables], target)\n",
    "    print gsearch.best_params_\n",
    "    print gsearch.best_score_"
   ]
  },
  {
   "cell_type": "code",
   "execution_count": null,
   "metadata": {
    "collapsed": false
   },
   "outputs": [],
   "source": [
    "param_test = {\n",
    "    'n_estimators':range(10,101,10)\n",
    "}\n",
    "gridSearchCV_lgb_clf(param_test)"
   ]
  },
  {
   "cell_type": "code",
   "execution_count": 7,
   "metadata": {
    "collapsed": false
   },
   "outputs": [
    {
     "name": "stdout",
     "output_type": "stream",
     "text": [
      "cont_1 min: 0 and max: 42596\n",
      "cont_2 min: 0 and max: 11396904\n",
      "cont_3 min: 0 and max: 11730594\n",
      "cont_4 min: 0.0 and max: 1.0\n",
      "cont_5 min: 0.0 and max: 1.0\n",
      "cont_6 min: 0.0 and max: 1.0\n",
      "cont_7 min: 0.0 and max: 1.0\n",
      "cont_8 min: 0.0 and max: 1.0\n",
      "cont_9 min: 0.0 and max: 1.0\n",
      "cont_10 min: 0.0 and max: 1.0\n",
      "cont_11 min: 0.0 and max: 1.0\n",
      "cont_12 min: 0.0 and max: 1.0\n",
      "cont_13 min: 0.0 and max: 1.0\n",
      "cont_14 min: 0.0 and max: 1.0\n",
      "cont_15 min: 0.0 and max: 1.0\n",
      "cont_16 min: 0.0 and max: 1.0\n",
      "cont_17 min: 0.0 and max: 1.0\n",
      "cont_18 min: 0.0 and max: 1.0\n"
     ]
    }
   ],
   "source": [
    "for col in train_cont_col_names:\n",
    "   print \"{} min: {} and max: {}\".format(col, np.min(train[col]), np.max(train[col]))"
   ]
  },
  {
   "cell_type": "code",
   "execution_count": 26,
   "metadata": {
    "collapsed": false
   },
   "outputs": [
    {
     "data": {
      "text/plain": [
       "array([ 0.  ,  0.01,  0.02,  0.03,  0.04,  0.05,  0.06,  0.07,  0.08,\n",
       "        0.09,  0.1 ,  0.11,  0.12,  0.13,  0.14,  0.15,  0.16,  0.17,\n",
       "        0.18,  0.19,  0.2 ,  0.21,  0.22,  0.23,  0.24,  0.25,  0.26,\n",
       "        0.27,  0.28,  0.31,  0.32,  0.33,  0.34,  0.35,  0.36,  0.38,\n",
       "        0.39,  0.4 ,  0.44,  0.46,  0.5 ,  0.52,  0.53,  0.55,  0.56,\n",
       "        0.58,  0.59,  0.61,  0.63,  0.64,  0.65,  0.66,  0.68,  0.7 ,\n",
       "        0.71,  0.73,  0.74,  0.77,  0.78,  0.79,  0.8 ,  0.82,  0.83,\n",
       "        0.85,  0.86,  0.87,  0.88,  0.93,  0.95,  0.96,  0.97,  0.98,\n",
       "        0.99,  1.  ])"
      ]
     },
     "execution_count": 26,
     "metadata": {},
     "output_type": "execute_result"
    }
   ],
   "source": [
    "np.unique(train['cont_4'])"
   ]
  },
  {
   "cell_type": "code",
   "execution_count": 28,
   "metadata": {
    "collapsed": false
   },
   "outputs": [],
   "source": [
    "def parse_num(x):\n",
    "    if ((x >= 0.0) & (x <=0.1)):\n",
    "        return 1\n",
    "    elif ((x > 0.1) & (x <= 0.2)):\n",
    "        return 2\n",
    "    elif ((x > 0.2) & (x <= 0.3)):\n",
    "        return 3\n",
    "    elif ((x > 0.3) & (x <= 0.4)):\n",
    "        return 4\n",
    "    elif ((x > 0.4) & (x <= 0.5)):\n",
    "        return 5\n",
    "    elif ((x > 0.5) & (x <= 0.6)):\n",
    "        return 6\n",
    "    elif ((x > 0.6) & (x <= 0.7)):\n",
    "        return 7\n",
    "    elif ((x > 0.7) & (x <= 0.8)):\n",
    "        return 8\n",
    "    elif ((x > 0.8) & (x <= 0.9)):\n",
    "        return 9\n",
    "    elif (x > 0.9):\n",
    "        return 10"
   ]
  },
  {
   "cell_type": "code",
   "execution_count": 29,
   "metadata": {
    "collapsed": true
   },
   "outputs": [],
   "source": [
    "parsed_cont_4 = train['cont_4'].apply(parse_num)"
   ]
  },
  {
   "cell_type": "code",
   "execution_count": 31,
   "metadata": {
    "collapsed": false
   },
   "outputs": [
    {
     "data": {
      "text/plain": [
       "array([ 1,  2,  3,  4,  5,  6,  7,  8,  9, 10])"
      ]
     },
     "execution_count": 31,
     "metadata": {},
     "output_type": "execute_result"
    }
   ],
   "source": [
    "np.unique(parsed_cont_4)"
   ]
  },
  {
   "cell_type": "code",
   "execution_count": 35,
   "metadata": {
    "collapsed": false
   },
   "outputs": [],
   "source": [
    "cols_to_be_parsed = train.columns[4:19].tolist()"
   ]
  },
  {
   "cell_type": "code",
   "execution_count": 36,
   "metadata": {
    "collapsed": true
   },
   "outputs": [],
   "source": [
    "for cols in cols_to_be_parsed:\n",
    "    train[cols] = train[cols].apply(parse_num)"
   ]
  },
  {
   "cell_type": "code",
   "execution_count": 37,
   "metadata": {
    "collapsed": false
   },
   "outputs": [
    {
     "data": {
      "text/html": [
       "<div>\n",
       "<table border=\"1\" class=\"dataframe\">\n",
       "  <thead>\n",
       "    <tr style=\"text-align: right;\">\n",
       "      <th></th>\n",
       "      <th>connection_id</th>\n",
       "      <th>cont_1</th>\n",
       "      <th>cont_2</th>\n",
       "      <th>cont_3</th>\n",
       "      <th>cont_4</th>\n",
       "      <th>cont_5</th>\n",
       "      <th>cont_6</th>\n",
       "      <th>cont_7</th>\n",
       "      <th>cont_8</th>\n",
       "      <th>cont_9</th>\n",
       "      <th>...</th>\n",
       "      <th>cat_15</th>\n",
       "      <th>cat_16</th>\n",
       "      <th>cat_17</th>\n",
       "      <th>cat_18</th>\n",
       "      <th>cat_19</th>\n",
       "      <th>cat_20</th>\n",
       "      <th>cat_21</th>\n",
       "      <th>cat_22</th>\n",
       "      <th>cat_23</th>\n",
       "      <th>target</th>\n",
       "    </tr>\n",
       "  </thead>\n",
       "  <tbody>\n",
       "    <tr>\n",
       "      <th>0</th>\n",
       "      <td>cxcon_1</td>\n",
       "      <td>0</td>\n",
       "      <td>1032</td>\n",
       "      <td>0</td>\n",
       "      <td>1</td>\n",
       "      <td>1</td>\n",
       "      <td>1</td>\n",
       "      <td>1</td>\n",
       "      <td>10</td>\n",
       "      <td>1</td>\n",
       "      <td>...</td>\n",
       "      <td>0</td>\n",
       "      <td>0</td>\n",
       "      <td>0</td>\n",
       "      <td>0</td>\n",
       "      <td>0</td>\n",
       "      <td>511</td>\n",
       "      <td>511</td>\n",
       "      <td>255</td>\n",
       "      <td>255</td>\n",
       "      <td>2</td>\n",
       "    </tr>\n",
       "    <tr>\n",
       "      <th>1</th>\n",
       "      <td>cxcon_4</td>\n",
       "      <td>0</td>\n",
       "      <td>520</td>\n",
       "      <td>0</td>\n",
       "      <td>1</td>\n",
       "      <td>1</td>\n",
       "      <td>1</td>\n",
       "      <td>1</td>\n",
       "      <td>10</td>\n",
       "      <td>1</td>\n",
       "      <td>...</td>\n",
       "      <td>0</td>\n",
       "      <td>0</td>\n",
       "      <td>0</td>\n",
       "      <td>0</td>\n",
       "      <td>0</td>\n",
       "      <td>511</td>\n",
       "      <td>511</td>\n",
       "      <td>255</td>\n",
       "      <td>255</td>\n",
       "      <td>0</td>\n",
       "    </tr>\n",
       "    <tr>\n",
       "      <th>2</th>\n",
       "      <td>cxcon_7</td>\n",
       "      <td>0</td>\n",
       "      <td>1032</td>\n",
       "      <td>0</td>\n",
       "      <td>1</td>\n",
       "      <td>1</td>\n",
       "      <td>1</td>\n",
       "      <td>1</td>\n",
       "      <td>10</td>\n",
       "      <td>1</td>\n",
       "      <td>...</td>\n",
       "      <td>0</td>\n",
       "      <td>0</td>\n",
       "      <td>0</td>\n",
       "      <td>0</td>\n",
       "      <td>0</td>\n",
       "      <td>511</td>\n",
       "      <td>511</td>\n",
       "      <td>255</td>\n",
       "      <td>255</td>\n",
       "      <td>0</td>\n",
       "    </tr>\n",
       "    <tr>\n",
       "      <th>3</th>\n",
       "      <td>cxcon_10</td>\n",
       "      <td>0</td>\n",
       "      <td>1032</td>\n",
       "      <td>0</td>\n",
       "      <td>1</td>\n",
       "      <td>1</td>\n",
       "      <td>1</td>\n",
       "      <td>1</td>\n",
       "      <td>10</td>\n",
       "      <td>1</td>\n",
       "      <td>...</td>\n",
       "      <td>0</td>\n",
       "      <td>0</td>\n",
       "      <td>0</td>\n",
       "      <td>0</td>\n",
       "      <td>0</td>\n",
       "      <td>511</td>\n",
       "      <td>511</td>\n",
       "      <td>255</td>\n",
       "      <td>255</td>\n",
       "      <td>0</td>\n",
       "    </tr>\n",
       "    <tr>\n",
       "      <th>4</th>\n",
       "      <td>cxcon_13</td>\n",
       "      <td>0</td>\n",
       "      <td>1032</td>\n",
       "      <td>0</td>\n",
       "      <td>1</td>\n",
       "      <td>1</td>\n",
       "      <td>1</td>\n",
       "      <td>1</td>\n",
       "      <td>10</td>\n",
       "      <td>1</td>\n",
       "      <td>...</td>\n",
       "      <td>0</td>\n",
       "      <td>0</td>\n",
       "      <td>0</td>\n",
       "      <td>0</td>\n",
       "      <td>0</td>\n",
       "      <td>511</td>\n",
       "      <td>511</td>\n",
       "      <td>255</td>\n",
       "      <td>255</td>\n",
       "      <td>2</td>\n",
       "    </tr>\n",
       "  </tbody>\n",
       "</table>\n",
       "<p>5 rows × 43 columns</p>\n",
       "</div>"
      ],
      "text/plain": [
       "  connection_id  cont_1  cont_2  cont_3  cont_4  cont_5  cont_6  cont_7  \\\n",
       "0       cxcon_1       0    1032       0       1       1       1       1   \n",
       "1       cxcon_4       0     520       0       1       1       1       1   \n",
       "2       cxcon_7       0    1032       0       1       1       1       1   \n",
       "3      cxcon_10       0    1032       0       1       1       1       1   \n",
       "4      cxcon_13       0    1032       0       1       1       1       1   \n",
       "\n",
       "   cont_8  cont_9   ...    cat_15  cat_16  cat_17  cat_18  cat_19  cat_20  \\\n",
       "0      10       1   ...         0       0       0       0       0     511   \n",
       "1      10       1   ...         0       0       0       0       0     511   \n",
       "2      10       1   ...         0       0       0       0       0     511   \n",
       "3      10       1   ...         0       0       0       0       0     511   \n",
       "4      10       1   ...         0       0       0       0       0     511   \n",
       "\n",
       "   cat_21  cat_22  cat_23  target  \n",
       "0     511     255     255       2  \n",
       "1     511     255     255       0  \n",
       "2     511     255     255       0  \n",
       "3     511     255     255       0  \n",
       "4     511     255     255       2  \n",
       "\n",
       "[5 rows x 43 columns]"
      ]
     },
     "execution_count": 37,
     "metadata": {},
     "output_type": "execute_result"
    }
   ],
   "source": [
    "train.head()"
   ]
  },
  {
   "cell_type": "code",
   "execution_count": 38,
   "metadata": {
    "collapsed": false
   },
   "outputs": [
    {
     "name": "stdout",
     "output_type": "stream",
     "text": [
      "<class 'pandas.core.frame.DataFrame'>\n",
      "RangeIndex: 169307 entries, 0 to 169306\n",
      "Data columns (total 43 columns):\n",
      "connection_id    169307 non-null object\n",
      "cont_1           169307 non-null int64\n",
      "cont_2           169307 non-null int64\n",
      "cont_3           169307 non-null int64\n",
      "cont_4           169307 non-null int64\n",
      "cont_5           169307 non-null int64\n",
      "cont_6           169307 non-null int64\n",
      "cont_7           169307 non-null int64\n",
      "cont_8           169307 non-null int64\n",
      "cont_9           169307 non-null int64\n",
      "cont_10          169307 non-null int64\n",
      "cont_11          169307 non-null int64\n",
      "cont_12          169307 non-null int64\n",
      "cont_13          169307 non-null int64\n",
      "cont_14          169307 non-null int64\n",
      "cont_15          169307 non-null int64\n",
      "cont_16          169307 non-null int64\n",
      "cont_17          169307 non-null int64\n",
      "cont_18          169307 non-null int64\n",
      "cat_1            169307 non-null int64\n",
      "cat_2            169307 non-null int64\n",
      "cat_3            169307 non-null int64\n",
      "cat_4            169307 non-null int64\n",
      "cat_5            169307 non-null int64\n",
      "cat_6            169307 non-null int64\n",
      "cat_7            169307 non-null int64\n",
      "cat_8            169307 non-null int64\n",
      "cat_9            169307 non-null int64\n",
      "cat_10           169307 non-null int64\n",
      "cat_11           169307 non-null int64\n",
      "cat_12           169307 non-null int64\n",
      "cat_13           169307 non-null int64\n",
      "cat_14           169307 non-null int64\n",
      "cat_15           169307 non-null int64\n",
      "cat_16           169307 non-null int64\n",
      "cat_17           169307 non-null int64\n",
      "cat_18           169307 non-null int64\n",
      "cat_19           169307 non-null int64\n",
      "cat_20           169307 non-null int64\n",
      "cat_21           169307 non-null int64\n",
      "cat_22           169307 non-null int64\n",
      "cat_23           169307 non-null int64\n",
      "target           169307 non-null int64\n",
      "dtypes: int64(42), object(1)\n",
      "memory usage: 55.5+ MB\n"
     ]
    }
   ],
   "source": [
    "train.info()"
   ]
  },
  {
   "cell_type": "code",
   "execution_count": null,
   "metadata": {
    "collapsed": true
   },
   "outputs": [],
   "source": []
  }
 ],
 "metadata": {
  "kernelspec": {
   "display_name": "Python 2",
   "language": "python",
   "name": "python2"
  },
  "language_info": {
   "codemirror_mode": {
    "name": "ipython",
    "version": 2
   },
   "file_extension": ".py",
   "mimetype": "text/x-python",
   "name": "python",
   "nbconvert_exporter": "python",
   "pygments_lexer": "ipython2",
   "version": "2.7.10"
  }
 },
 "nbformat": 4,
 "nbformat_minor": 2
}
